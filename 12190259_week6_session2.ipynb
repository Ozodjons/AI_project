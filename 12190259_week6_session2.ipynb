{
  "nbformat": 4,
  "nbformat_minor": 0,
  "metadata": {
    "colab": {
      "provenance": [],
      "collapsed_sections": []
    },
    "kernelspec": {
      "name": "python3",
      "display_name": "Python 3"
    },
    "language_info": {
      "name": "python"
    }
  },
  "cells": [
    {
      "cell_type": "code",
      "execution_count": 1,
      "metadata": {
        "colab": {
          "base_uri": "https://localhost:8080/"
        },
        "id": "K2bDW2H4vy4a",
        "outputId": "7be4c743-aa81-44c0-95fd-b6cc04c659ec"
      },
      "outputs": [
        {
          "output_type": "stream",
          "name": "stdout",
          "text": [
            "Looking in indexes: https://pypi.org/simple, https://us-python.pkg.dev/colab-wheels/public/simple/\n",
            "Requirement already satisfied: tensorflow==1.15.5 in /usr/local/lib/python3.7/dist-packages (1.15.5)\n",
            "Requirement already satisfied: keras-applications>=1.0.8 in /usr/local/lib/python3.7/dist-packages (from tensorflow==1.15.5) (1.0.8)\n",
            "Requirement already satisfied: gast==0.2.2 in /usr/local/lib/python3.7/dist-packages (from tensorflow==1.15.5) (0.2.2)\n",
            "Requirement already satisfied: h5py<=2.10.0 in /usr/local/lib/python3.7/dist-packages (from tensorflow==1.15.5) (2.10.0)\n",
            "Requirement already satisfied: google-pasta>=0.1.6 in /usr/local/lib/python3.7/dist-packages (from tensorflow==1.15.5) (0.2.0)\n",
            "Requirement already satisfied: grpcio>=1.8.6 in /usr/local/lib/python3.7/dist-packages (from tensorflow==1.15.5) (1.48.1)\n",
            "Requirement already satisfied: tensorflow-estimator==1.15.1 in /usr/local/lib/python3.7/dist-packages (from tensorflow==1.15.5) (1.15.1)\n",
            "Requirement already satisfied: wheel>=0.26 in /usr/local/lib/python3.7/dist-packages (from tensorflow==1.15.5) (0.37.1)\n",
            "Requirement already satisfied: opt-einsum>=2.3.2 in /usr/local/lib/python3.7/dist-packages (from tensorflow==1.15.5) (3.3.0)\n",
            "Requirement already satisfied: numpy<1.19.0,>=1.16.0 in /usr/local/lib/python3.7/dist-packages (from tensorflow==1.15.5) (1.18.5)\n",
            "Requirement already satisfied: keras-preprocessing>=1.0.5 in /usr/local/lib/python3.7/dist-packages (from tensorflow==1.15.5) (1.1.2)\n",
            "Requirement already satisfied: wrapt>=1.11.1 in /usr/local/lib/python3.7/dist-packages (from tensorflow==1.15.5) (1.14.1)\n",
            "Requirement already satisfied: termcolor>=1.1.0 in /usr/local/lib/python3.7/dist-packages (from tensorflow==1.15.5) (1.1.0)\n",
            "Requirement already satisfied: six>=1.10.0 in /usr/local/lib/python3.7/dist-packages (from tensorflow==1.15.5) (1.15.0)\n",
            "Requirement already satisfied: tensorboard<1.16.0,>=1.15.0 in /usr/local/lib/python3.7/dist-packages (from tensorflow==1.15.5) (1.15.0)\n",
            "Requirement already satisfied: astor>=0.6.0 in /usr/local/lib/python3.7/dist-packages (from tensorflow==1.15.5) (0.8.1)\n",
            "Requirement already satisfied: absl-py>=0.7.0 in /usr/local/lib/python3.7/dist-packages (from tensorflow==1.15.5) (1.2.0)\n",
            "Requirement already satisfied: protobuf>=3.6.1 in /usr/local/lib/python3.7/dist-packages (from tensorflow==1.15.5) (3.17.3)\n",
            "Requirement already satisfied: werkzeug>=0.11.15 in /usr/local/lib/python3.7/dist-packages (from tensorboard<1.16.0,>=1.15.0->tensorflow==1.15.5) (1.0.1)\n",
            "Requirement already satisfied: setuptools>=41.0.0 in /usr/local/lib/python3.7/dist-packages (from tensorboard<1.16.0,>=1.15.0->tensorflow==1.15.5) (57.4.0)\n",
            "Requirement already satisfied: markdown>=2.6.8 in /usr/local/lib/python3.7/dist-packages (from tensorboard<1.16.0,>=1.15.0->tensorflow==1.15.5) (3.4.1)\n",
            "Requirement already satisfied: importlib-metadata>=4.4 in /usr/local/lib/python3.7/dist-packages (from markdown>=2.6.8->tensorboard<1.16.0,>=1.15.0->tensorflow==1.15.5) (4.12.0)\n",
            "Requirement already satisfied: zipp>=0.5 in /usr/local/lib/python3.7/dist-packages (from importlib-metadata>=4.4->markdown>=2.6.8->tensorboard<1.16.0,>=1.15.0->tensorflow==1.15.5) (3.8.1)\n",
            "Requirement already satisfied: typing-extensions>=3.6.4 in /usr/local/lib/python3.7/dist-packages (from importlib-metadata>=4.4->markdown>=2.6.8->tensorboard<1.16.0,>=1.15.0->tensorflow==1.15.5) (4.1.1)\n"
          ]
        }
      ],
      "source": [
        "pip install tensorflow==1.15.5"
      ]
    },
    {
      "cell_type": "code",
      "source": [
        "import os\n",
        "import numpy as np \n",
        "import zipfile\n",
        "from urllib import request\n",
        "import matplotlib.pyplot as plt\n",
        "import matplotlib.image as mpimg\n",
        "import random\n",
        "import tensorflow as tf\n",
        "import cv2"
      ],
      "metadata": {
        "id": "DviJAo4VwBH3"
      },
      "execution_count": 2,
      "outputs": []
    },
    {
      "cell_type": "code",
      "source": [
        "img_database = np.loadtxt('fashion-mnist_train.csv', delimiter=',', skiprows=1)[:,1:]\n",
        "#looking at the shape of the file\n",
        "print(img_database.shape)\n",
        "\n",
        "\n",
        "total_num_images = (img_database.shape[0])"
      ],
      "metadata": {
        "colab": {
          "base_uri": "https://localhost:8080/"
        },
        "id": "kL-N_gcQwhuT",
        "outputId": "a4e58092-e435-4145-bbfc-b6c251ed06c2"
      },
      "execution_count": 5,
      "outputs": [
        {
          "output_type": "stream",
          "name": "stdout",
          "text": [
            "(60000, 784)\n"
          ]
        }
      ]
    },
    {
      "cell_type": "code",
      "source": [
        "n_input = 784 #Input image is of size 28 x 28\n",
        "hidden_layer_1 = 256\n",
        "hidden_layer_2 = 32\n",
        "hidden_layer_3 = 32\n",
        "hidden_layer_4 = 256\n",
        "output_layer = 784  #Same as the n_input dimension\n",
        "\n",
        "# Parameters\n",
        "learning_rate = 0.1\n",
        "epochs = 100\n",
        "batch_size = 100\n",
        "\n",
        "# Define the placeholders\n",
        "X = tf.placeholder(tf.float32, [None, n_input])\n",
        "Y = tf.placeholder(tf.float32, [None, output_layer])"
      ],
      "metadata": {
        "id": "kG5FpWDewq-I"
      },
      "execution_count": 6,
      "outputs": []
    },
    {
      "cell_type": "code",
      "source": [
        "Weight_NN = {\"W1\": tf.Variable(tf.random_normal([n_input, hidden_layer_1])),\n",
        "             \"W2\": tf.Variable(tf.random_normal([hidden_layer_1, hidden_layer_2])),\n",
        "             \"W3\": tf.Variable(tf.random_normal([hidden_layer_2, hidden_layer_3])),\n",
        "             \"W4\": tf.Variable(tf.random_normal([hidden_layer_3, hidden_layer_4])),\n",
        "             \"W5\": tf.Variable(tf.random_normal([hidden_layer_4, output_layer]))\n",
        "             }\n",
        "Bias_NN = { \"B1\": tf.Variable(tf.random_normal([hidden_layer_1])),\n",
        "            \"B2\": tf.Variable(tf.random_normal([hidden_layer_2])),\n",
        "            \"B3\": tf.Variable(tf.random_normal([hidden_layer_3])),\n",
        "            \"B4\": tf.Variable(tf.random_normal([hidden_layer_4])),\n",
        "            \"B5\": tf.Variable(tf.random_normal([output_layer]))\n",
        "           }"
      ],
      "metadata": {
        "id": "TXmkyRWS2Azy"
      },
      "execution_count": 7,
      "outputs": []
    },
    {
      "cell_type": "code",
      "source": [
        "Z1 = tf.add(tf.matmul(X, Weight_NN[\"W1\"]), Bias_NN[\"B1\"])\n",
        "Z1_out = tf.nn.sigmoid(Z1)\n",
        "\n",
        "Z2 = tf.add(tf.matmul(Z1_out, Weight_NN[\"W2\"]), Bias_NN[\"B2\"])\n",
        "Z2_out = tf.nn.sigmoid(Z2)\n",
        "\n",
        "Z3 = tf.add(tf.matmul(Z2_out, Weight_NN[\"W3\"]), Bias_NN[\"B2\"])\n",
        "Z3_out = tf.nn.sigmoid(Z3)\n",
        "\n",
        "Z4 = tf.add(tf.matmul(Z3_out, Weight_NN[\"W4\"]), Bias_NN[\"B4\"])\n",
        "Z4_out = tf.nn.sigmoid(Z4)\n",
        "\n",
        "Z5 = tf.add(tf.matmul(Z4_out, Weight_NN[\"W5\"]), Bias_NN[\"B5\"])\n",
        "Z5_out = tf.nn.sigmoid(Z5)"
      ],
      "metadata": {
        "id": "PeRUHHTZ2hA2"
      },
      "execution_count": 8,
      "outputs": []
    },
    {
      "cell_type": "code",
      "source": [
        "Z1 = tf.layers.dense(X, hidden_layer_1, activation = tf.nn.sigmoid)\n",
        "Z2 = tf.layers.dense(Z1, hidden_layer_2, activation = tf.nn.sigmoid)\n",
        "Z3 = tf.layers.dense(Z1, hidden_layer_3, activation = tf.nn.sigmoid)\n",
        "Z4 = tf.layers.dense(Z1, hidden_layer_4, activation = tf.nn.sigmoid)\n",
        "NN_output = tf.layers.dense(Z4, output_layer)"
      ],
      "metadata": {
        "colab": {
          "base_uri": "https://localhost:8080/"
        },
        "id": "l13YjoAV2jA7",
        "outputId": "26d8159c-3ba4-46b2-d450-6d6a4a4938a9"
      },
      "execution_count": 9,
      "outputs": [
        {
          "output_type": "stream",
          "name": "stderr",
          "text": [
            "WARNING:tensorflow:From <ipython-input-9-0363ae5c8ae8>:1: dense (from tensorflow.python.layers.core) is deprecated and will be removed in a future version.\n",
            "Instructions for updating:\n",
            "Use keras.layers.Dense instead.\n",
            "WARNING:tensorflow:From /usr/local/lib/python3.7/dist-packages/tensorflow_core/python/layers/core.py:187: Layer.apply (from tensorflow.python.keras.engine.base_layer) is deprecated and will be removed in a future version.\n",
            "Instructions for updating:\n",
            "Please use `layer.__call__` method instead.\n"
          ]
        }
      ]
    },
    {
      "cell_type": "code",
      "source": [
        "np.random.shuffle(img_database)\n",
        "\n",
        "X_train = img_database\n",
        "\n",
        "# Normalize the dataset\n",
        "X_train = X_train\n",
        "\n",
        "# Create a noisy dataset\n",
        "X_train_noisy = X_train + 10* np.random.normal(0,1, size = X_train.shape)\n",
        "\n",
        "#Original image\n",
        "plt.imshow(X_train[0].reshape(28,28), cmap = 'gray')\n",
        "plt.show()\n",
        "\n",
        "#Noisy image\n",
        "plt.imshow(X_train_noisy[0].reshape(28,28), cmap = 'gray')\n",
        "plt.show()"
      ],
      "metadata": {
        "colab": {
          "base_uri": "https://localhost:8080/",
          "height": 513
        },
        "id": "Sq9X3IHB2lKX",
        "outputId": "960e7225-b9c7-487e-e0e1-d9cc0b918e2f"
      },
      "execution_count": 10,
      "outputs": [
        {
          "output_type": "display_data",
          "data": {
            "text/plain": [
              "<Figure size 432x288 with 1 Axes>"
            ],
            "image/png": "[encoded data removed]"
          },
          "metadata": {
            "needs_background": "light"
          }
        },
        {
          "output_type": "display_data",
          "data": {
            "text/plain": [
              "<Figure size 432x288 with 1 Axes>"
            ],
            "image/png": "[encoded data removed]"
          },
          "metadata": {
            "needs_background": "light"
          }
        }
      ]
    },
    {
      "cell_type": "code",
      "source": [
        "#Define the metrics\n",
        "\n",
        "# The loss function\n",
        "computed_loss = tf.reduce_mean(tf.square(NN_output-Y))\n",
        "\n",
        "# Define the optimizer\n",
        "optimizer = tf.train.AdagradOptimizer(learning_rate).minimize(computed_loss)\n",
        "\n",
        "# Initialize the variables\n",
        "init = tf.global_variables_initializer()\n"
      ],
      "metadata": {
        "colab": {
          "base_uri": "https://localhost:8080/"
        },
        "id": "xC2DK0kL2oj3",
        "outputId": "9214d668-5841-44fc-9fb8-09e1bd5c1852"
      },
      "execution_count": 11,
      "outputs": [
        {
          "output_type": "stream",
          "name": "stderr",
          "text": [
            "WARNING:tensorflow:From /usr/local/lib/python3.7/dist-packages/tensorflow_core/python/training/adagrad.py:76: calling Constant.__init__ (from tensorflow.python.ops.init_ops) with dtype is deprecated and will be removed in a future version.\n",
            "Instructions for updating:\n",
            "Call initializer instance with the dtype argument instead of passing it to the constructor\n"
          ]
        }
      ]
    },
    {
      "cell_type": "code",
      "source": [
        "# Initialize the Session\n",
        "\n",
        "sess = tf.Session()\n",
        "sess.run(init)\n",
        "for epoch in range(epochs):\n",
        "  for i in range(int(total_num_images/batch_size)):\n",
        "    X_epoch = X_train[ i*batch_size : (i+1)*batch_size ]\n",
        "    X_noise_epoch = X_train_noisy[ i*batch_size : (i+1)*batch_size ]\n",
        "    _, loss = sess.run([optimizer, computed_loss], feed_dict = {X: X_noise_epoch, Y: X_epoch})\n",
        "  print('Epoch', epoch, '/', epochs, 'loss:', loss)\n",
        "\n",
        "# pick any image\n",
        "X_actual = X_train[:10]\n",
        "noisy_image = X_train_noisy[:10]\n",
        "\n",
        "# run it though the autoencoder\n",
        "denoised_image = sess.run(NN_output, feed_dict={X:noisy_image})"
      ],
      "metadata": {
        "colab": {
          "base_uri": "https://localhost:8080/"
        },
        "id": "11Ns0KYs2yY7",
        "outputId": "da8df111-3f28-4861-e2e3-84b5e067ea8d"
      },
      "execution_count": 12,
      "outputs": [
        {
          "output_type": "stream",
          "name": "stdout",
          "text": [
            "Epoch 0 / 100 loss: 4499.667\n",
            "Epoch 1 / 100 loss: 4260.8857\n",
            "Epoch 2 / 100 loss: 3926.0334\n",
            "Epoch 3 / 100 loss: 3870.2205\n",
            "Epoch 4 / 100 loss: 3830.9119\n",
            "Epoch 5 / 100 loss: 3739.0151\n",
            "Epoch 6 / 100 loss: 3696.4612\n",
            "Epoch 7 / 100 loss: 3631.568\n",
            "Epoch 8 / 100 loss: 3625.8179\n",
            "Epoch 9 / 100 loss: 3618.6694\n",
            "Epoch 10 / 100 loss: 3582.8926\n",
            "Epoch 11 / 100 loss: 3558.587\n",
            "Epoch 12 / 100 loss: 3523.6885\n",
            "Epoch 13 / 100 loss: 3524.0388\n",
            "Epoch 14 / 100 loss: 3464.2983\n",
            "Epoch 15 / 100 loss: 3606.6848\n",
            "Epoch 16 / 100 loss: 3457.653\n",
            "Epoch 17 / 100 loss: 3512.8103\n",
            "Epoch 18 / 100 loss: 3410.084\n",
            "Epoch 19 / 100 loss: 3318.8767\n",
            "Epoch 20 / 100 loss: 3283.6763\n",
            "Epoch 21 / 100 loss: 3278.887\n",
            "Epoch 22 / 100 loss: 3289.1726\n",
            "Epoch 23 / 100 loss: 3254.6084\n",
            "Epoch 24 / 100 loss: 3190.785\n",
            "Epoch 25 / 100 loss: 3155.2583\n",
            "Epoch 26 / 100 loss: 3151.9326\n",
            "Epoch 27 / 100 loss: 3136.6885\n",
            "Epoch 28 / 100 loss: 3100.726\n",
            "Epoch 29 / 100 loss: 3098.8389\n",
            "Epoch 30 / 100 loss: 3022.116\n",
            "Epoch 31 / 100 loss: 3008.7185\n",
            "Epoch 32 / 100 loss: 2988.3489\n",
            "Epoch 33 / 100 loss: 3047.0156\n",
            "Epoch 34 / 100 loss: 2983.0754\n",
            "Epoch 35 / 100 loss: 3046.556\n",
            "Epoch 36 / 100 loss: 3020.313\n",
            "Epoch 37 / 100 loss: 3011.9949\n",
            "Epoch 38 / 100 loss: 3003.413\n",
            "Epoch 39 / 100 loss: 3058.6394\n",
            "Epoch 40 / 100 loss: 2962.0378\n",
            "Epoch 41 / 100 loss: 2977.0237\n",
            "Epoch 42 / 100 loss: 2900.8044\n",
            "Epoch 43 / 100 loss: 2982.4263\n",
            "Epoch 44 / 100 loss: 2899.237\n",
            "Epoch 45 / 100 loss: 2958.354\n",
            "Epoch 46 / 100 loss: 2908.6396\n",
            "Epoch 47 / 100 loss: 2874.9314\n",
            "Epoch 48 / 100 loss: 2881.9868\n",
            "Epoch 49 / 100 loss: 2863.97\n",
            "Epoch 50 / 100 loss: 2865.0928\n",
            "Epoch 51 / 100 loss: 2811.2893\n",
            "Epoch 52 / 100 loss: 2826.4465\n",
            "Epoch 53 / 100 loss: 2830.5378\n",
            "Epoch 54 / 100 loss: 2847.814\n",
            "Epoch 55 / 100 loss: 2829.896\n",
            "Epoch 56 / 100 loss: 2793.4807\n",
            "Epoch 57 / 100 loss: 2741.3042\n",
            "Epoch 58 / 100 loss: 2743.4382\n",
            "Epoch 59 / 100 loss: 2864.7378\n",
            "Epoch 60 / 100 loss: 2782.7693\n",
            "Epoch 61 / 100 loss: 2769.4746\n",
            "Epoch 62 / 100 loss: 2725.7778\n",
            "Epoch 63 / 100 loss: 2749.557\n",
            "Epoch 64 / 100 loss: 2753.3662\n",
            "Epoch 65 / 100 loss: 2736.8171\n",
            "Epoch 66 / 100 loss: 2730.385\n",
            "Epoch 67 / 100 loss: 2694.7563\n",
            "Epoch 68 / 100 loss: 2691.6685\n",
            "Epoch 69 / 100 loss: 2747.8167\n",
            "Epoch 70 / 100 loss: 2667.0103\n",
            "Epoch 71 / 100 loss: 2661.467\n",
            "Epoch 72 / 100 loss: 2721.0203\n",
            "Epoch 73 / 100 loss: 2708.0771\n",
            "Epoch 74 / 100 loss: 2657.0984\n",
            "Epoch 75 / 100 loss: 2649.9912\n",
            "Epoch 76 / 100 loss: 2675.129\n",
            "Epoch 77 / 100 loss: 2581.7065\n",
            "Epoch 78 / 100 loss: 2676.8967\n",
            "Epoch 79 / 100 loss: 2629.4956\n",
            "Epoch 80 / 100 loss: 2557.0874\n",
            "Epoch 81 / 100 loss: 2650.6238\n",
            "Epoch 82 / 100 loss: 2646.7393\n",
            "Epoch 83 / 100 loss: 2585.1328\n",
            "Epoch 84 / 100 loss: 2602.017\n",
            "Epoch 85 / 100 loss: 2544.9968\n",
            "Epoch 86 / 100 loss: 2591.8445\n",
            "Epoch 87 / 100 loss: 2617.6836\n",
            "Epoch 88 / 100 loss: 2598.0225\n",
            "Epoch 89 / 100 loss: 2565.3384\n",
            "Epoch 90 / 100 loss: 2553.7275\n",
            "Epoch 91 / 100 loss: 2557.8826\n",
            "Epoch 92 / 100 loss: 2563.1238\n",
            "Epoch 93 / 100 loss: 2540.4854\n",
            "Epoch 94 / 100 loss: 2548.5417\n",
            "Epoch 95 / 100 loss: 2610.9272\n",
            "Epoch 96 / 100 loss: 2534.6912\n",
            "Epoch 97 / 100 loss: 2522.8218\n",
            "Epoch 98 / 100 loss: 2514.1228\n",
            "Epoch 99 / 100 loss: 2522.9321\n"
          ]
        }
      ]
    },
    {
      "cell_type": "code",
      "source": [
        "# Another way of running session\n",
        "\n",
        "X_actual = X_train[20:30]\n",
        "noisy_image = X_train_noisy[20:30]\n",
        "with tf.Session() as sess:\n",
        "  sess.run(init)\n",
        "  for epoch in range(epochs):\n",
        "    for i in range(int(total_num_images/batch_size)):\n",
        "      X_epoch = X_train[ i*batch_size : (i*1)*batch_size ]\n",
        "      X_noise_epoch = X_train_noisy[i*batch_size : (i*1)*batch_size ]\n",
        "      _, loss = sess.run([optimizer, computed_loss], feed_dict={X: X_noise_epoch, Y: X_epoch})\n",
        "    print('Epoch', epoch, '/', epochs, 'loss:', loss)\n",
        "  denoised_image = sess.run(NN_output, feed_dict = {X:noisy_image})\n",
        "\n",
        "#pick any image\n",
        "  \n",
        "\n",
        "# print the original image \n",
        "fig, axes = plt.subplots(nrows=3, ncols=10, sharex=True, sharey=True, figsize=(20,4))\n",
        "for images, row in zip([X_actual, noisy_image, denoised_image], axes):\n",
        "    for img, ax in zip(images,row):\n",
        "        ax.imshow(img.reshape((28,28)), cmap='gray')\n",
        "        ax.get_xaxis().set_visible(False)\n",
        "        ax.get_yaxis().set_visible(False)\n",
        "\n",
        "fig.tight_layout(pad=0.1)"
      ],
      "metadata": {
        "colab": {
          "base_uri": "https://localhost:8080/",
          "height": 1000
        },
        "id": "53jv_mbZ21RK",
        "outputId": "2c058f31-b274-47a6-eeaa-02ce5b9e1321"
      },
      "execution_count": 13,
      "outputs": [
        {
          "output_type": "stream",
          "name": "stdout",
          "text": [
            "Epoch 0 / 100 loss: nan\n",
            "Epoch 1 / 100 loss: nan\n",
            "Epoch 2 / 100 loss: nan\n",
            "Epoch 3 / 100 loss: nan\n",
            "Epoch 4 / 100 loss: nan\n",
            "Epoch 5 / 100 loss: nan\n",
            "Epoch 6 / 100 loss: nan\n",
            "Epoch 7 / 100 loss: nan\n",
            "Epoch 8 / 100 loss: nan\n",
            "Epoch 9 / 100 loss: nan\n",
            "Epoch 10 / 100 loss: nan\n",
            "Epoch 11 / 100 loss: nan\n",
            "Epoch 12 / 100 loss: nan\n",
            "Epoch 13 / 100 loss: nan\n",
            "Epoch 14 / 100 loss: nan\n",
            "Epoch 15 / 100 loss: nan\n",
            "Epoch 16 / 100 loss: nan\n",
            "Epoch 17 / 100 loss: nan\n",
            "Epoch 18 / 100 loss: nan\n",
            "Epoch 19 / 100 loss: nan\n",
            "Epoch 20 / 100 loss: nan\n",
            "Epoch 21 / 100 loss: nan\n",
            "Epoch 22 / 100 loss: nan\n",
            "Epoch 23 / 100 loss: nan\n",
            "Epoch 24 / 100 loss: nan\n",
            "Epoch 25 / 100 loss: nan\n",
            "Epoch 26 / 100 loss: nan\n",
            "Epoch 27 / 100 loss: nan\n",
            "Epoch 28 / 100 loss: nan\n",
            "Epoch 29 / 100 loss: nan\n",
            "Epoch 30 / 100 loss: nan\n",
            "Epoch 31 / 100 loss: nan\n",
            "Epoch 32 / 100 loss: nan\n",
            "Epoch 33 / 100 loss: nan\n",
            "Epoch 34 / 100 loss: nan\n",
            "Epoch 35 / 100 loss: nan\n",
            "Epoch 36 / 100 loss: nan\n",
            "Epoch 37 / 100 loss: nan\n",
            "Epoch 38 / 100 loss: nan\n",
            "Epoch 39 / 100 loss: nan\n",
            "Epoch 40 / 100 loss: nan\n",
            "Epoch 41 / 100 loss: nan\n",
            "Epoch 42 / 100 loss: nan\n",
            "Epoch 43 / 100 loss: nan\n",
            "Epoch 44 / 100 loss: nan\n",
            "Epoch 45 / 100 loss: nan\n",
            "Epoch 46 / 100 loss: nan\n",
            "Epoch 47 / 100 loss: nan\n",
            "Epoch 48 / 100 loss: nan\n",
            "Epoch 49 / 100 loss: nan\n",
            "Epoch 50 / 100 loss: nan\n",
            "Epoch 51 / 100 loss: nan\n",
            "Epoch 52 / 100 loss: nan\n",
            "Epoch 53 / 100 loss: nan\n",
            "Epoch 54 / 100 loss: nan\n",
            "Epoch 55 / 100 loss: nan\n",
            "Epoch 56 / 100 loss: nan\n",
            "Epoch 57 / 100 loss: nan\n",
            "Epoch 58 / 100 loss: nan\n",
            "Epoch 59 / 100 loss: nan\n",
            "Epoch 60 / 100 loss: nan\n",
            "Epoch 61 / 100 loss: nan\n",
            "Epoch 62 / 100 loss: nan\n",
            "Epoch 63 / 100 loss: nan\n",
            "Epoch 64 / 100 loss: nan\n",
            "Epoch 65 / 100 loss: nan\n",
            "Epoch 66 / 100 loss: nan\n",
            "Epoch 67 / 100 loss: nan\n",
            "Epoch 68 / 100 loss: nan\n",
            "Epoch 69 / 100 loss: nan\n",
            "Epoch 70 / 100 loss: nan\n",
            "Epoch 71 / 100 loss: nan\n",
            "Epoch 72 / 100 loss: nan\n",
            "Epoch 73 / 100 loss: nan\n",
            "Epoch 74 / 100 loss: nan\n",
            "Epoch 75 / 100 loss: nan\n",
            "Epoch 76 / 100 loss: nan\n",
            "Epoch 77 / 100 loss: nan\n",
            "Epoch 78 / 100 loss: nan\n",
            "Epoch 79 / 100 loss: nan\n",
            "Epoch 80 / 100 loss: nan\n",
            "Epoch 81 / 100 loss: nan\n",
            "Epoch 82 / 100 loss: nan\n",
            "Epoch 83 / 100 loss: nan\n",
            "Epoch 84 / 100 loss: nan\n",
            "Epoch 85 / 100 loss: nan\n",
            "Epoch 86 / 100 loss: nan\n",
            "Epoch 87 / 100 loss: nan\n",
            "Epoch 88 / 100 loss: nan\n",
            "Epoch 89 / 100 loss: nan\n",
            "Epoch 90 / 100 loss: nan\n",
            "Epoch 91 / 100 loss: nan\n",
            "Epoch 92 / 100 loss: nan\n",
            "Epoch 93 / 100 loss: nan\n",
            "Epoch 94 / 100 loss: nan\n",
            "Epoch 95 / 100 loss: nan\n",
            "Epoch 96 / 100 loss: nan\n",
            "Epoch 97 / 100 loss: nan\n",
            "Epoch 98 / 100 loss: nan\n",
            "Epoch 99 / 100 loss: nan\n"
          ]
        },
        {
          "output_type": "display_data",
          "data": {
            "text/plain": [
              "<Figure size 1440x288 with 30 Axes>"
            ],
            "image/png": "[encoded data removed]"
          },
          "metadata": {
            "needs_background": "light"
          }
        }
      ]
    },
    {
      "cell_type": "code",
      "source": [],
      "metadata": {
        "id": "dTCbJvWn5BkW"
      },
      "execution_count": null,
      "outputs": []
    }
  ]
}