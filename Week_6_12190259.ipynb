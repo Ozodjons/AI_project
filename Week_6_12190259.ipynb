{
  "nbformat": 4,
  "nbformat_minor": 0,
  "metadata": {
    "colab": {
      "provenance": [],
      "collapsed_sections": []
    },
    "kernelspec": {
      "name": "python3",
      "display_name": "Python 3"
    },
    "language_info": {
      "name": "python"
    }
  },
  "cells": [
    {
      "cell_type": "code",
      "source": [
        "pip install tensorflow==1.15.5"
      ],
      "metadata": {
        "colab": {
          "base_uri": "https://localhost:8080/",
          "height": 1000
        },
        "id": "EdPA93odooz0",
        "outputId": "16ed92c6-e8dd-4143-c1ba-614ead942812"
      },
      "execution_count": 2,
      "outputs": [
        {
          "output_type": "stream",
          "name": "stdout",
          "text": [
            "Looking in indexes: https://pypi.org/simple, https://us-python.pkg.dev/colab-wheels/public/simple/\n",
            "Collecting tensorflow==1.15.5\n",
            "  Downloading tensorflow-1.15.5-cp37-cp37m-manylinux2010_x86_64.whl (110.5 MB)\n",
            "\u001b[K     |████████████████████████████████| 110.5 MB 1.3 kB/s \n",
            "\u001b[?25hRequirement already satisfied: absl-py>=0.7.0 in /usr/local/lib/python3.7/dist-packages (from tensorflow==1.15.5) (1.2.0)\n",
            "Collecting h5py<=2.10.0\n",
            "  Downloading h5py-2.10.0-cp37-cp37m-manylinux1_x86_64.whl (2.9 MB)\n",
            "\u001b[K     |████████████████████████████████| 2.9 MB 60.3 MB/s \n",
            "\u001b[?25hRequirement already satisfied: astor>=0.6.0 in /usr/local/lib/python3.7/dist-packages (from tensorflow==1.15.5) (0.8.1)\n",
            "Collecting tensorboard<1.16.0,>=1.15.0\n",
            "  Downloading tensorboard-1.15.0-py3-none-any.whl (3.8 MB)\n",
            "\u001b[K     |████████████████████████████████| 3.8 MB 51.2 MB/s \n",
            "\u001b[?25hRequirement already satisfied: google-pasta>=0.1.6 in /usr/local/lib/python3.7/dist-packages (from tensorflow==1.15.5) (0.2.0)\n",
            "Collecting tensorflow-estimator==1.15.1\n",
            "  Downloading tensorflow_estimator-1.15.1-py2.py3-none-any.whl (503 kB)\n",
            "\u001b[K     |████████████████████████████████| 503 kB 62.4 MB/s \n",
            "\u001b[?25hRequirement already satisfied: termcolor>=1.1.0 in /usr/local/lib/python3.7/dist-packages (from tensorflow==1.15.5) (1.1.0)\n",
            "Requirement already satisfied: wheel>=0.26 in /usr/local/lib/python3.7/dist-packages (from tensorflow==1.15.5) (0.37.1)\n",
            "Requirement already satisfied: wrapt>=1.11.1 in /usr/local/lib/python3.7/dist-packages (from tensorflow==1.15.5) (1.14.1)\n",
            "Requirement already satisfied: opt-einsum>=2.3.2 in /usr/local/lib/python3.7/dist-packages (from tensorflow==1.15.5) (3.3.0)\n",
            "Collecting numpy<1.19.0,>=1.16.0\n",
            "  Downloading numpy-1.18.5-cp37-cp37m-manylinux1_x86_64.whl (20.1 MB)\n",
            "\u001b[K     |████████████████████████████████| 20.1 MB 1.2 MB/s \n",
            "\u001b[?25hCollecting gast==0.2.2\n",
            "  Downloading gast-0.2.2.tar.gz (10 kB)\n",
            "Requirement already satisfied: protobuf>=3.6.1 in /usr/local/lib/python3.7/dist-packages (from tensorflow==1.15.5) (3.17.3)\n",
            "Requirement already satisfied: keras-preprocessing>=1.0.5 in /usr/local/lib/python3.7/dist-packages (from tensorflow==1.15.5) (1.1.2)\n",
            "Requirement already satisfied: six>=1.10.0 in /usr/local/lib/python3.7/dist-packages (from tensorflow==1.15.5) (1.15.0)\n",
            "Requirement already satisfied: grpcio>=1.8.6 in /usr/local/lib/python3.7/dist-packages (from tensorflow==1.15.5) (1.48.1)\n",
            "Collecting keras-applications>=1.0.8\n",
            "  Downloading Keras_Applications-1.0.8-py3-none-any.whl (50 kB)\n",
            "\u001b[K     |████████████████████████████████| 50 kB 5.9 MB/s \n",
            "\u001b[?25hRequirement already satisfied: werkzeug>=0.11.15 in /usr/local/lib/python3.7/dist-packages (from tensorboard<1.16.0,>=1.15.0->tensorflow==1.15.5) (1.0.1)\n",
            "Requirement already satisfied: setuptools>=41.0.0 in /usr/local/lib/python3.7/dist-packages (from tensorboard<1.16.0,>=1.15.0->tensorflow==1.15.5) (57.4.0)\n",
            "Requirement already satisfied: markdown>=2.6.8 in /usr/local/lib/python3.7/dist-packages (from tensorboard<1.16.0,>=1.15.0->tensorflow==1.15.5) (3.4.1)\n",
            "Requirement already satisfied: importlib-metadata>=4.4 in /usr/local/lib/python3.7/dist-packages (from markdown>=2.6.8->tensorboard<1.16.0,>=1.15.0->tensorflow==1.15.5) (4.12.0)\n",
            "Requirement already satisfied: typing-extensions>=3.6.4 in /usr/local/lib/python3.7/dist-packages (from importlib-metadata>=4.4->markdown>=2.6.8->tensorboard<1.16.0,>=1.15.0->tensorflow==1.15.5) (4.1.1)\n",
            "Requirement already satisfied: zipp>=0.5 in /usr/local/lib/python3.7/dist-packages (from importlib-metadata>=4.4->markdown>=2.6.8->tensorboard<1.16.0,>=1.15.0->tensorflow==1.15.5) (3.8.1)\n",
            "Building wheels for collected packages: gast\n",
            "  Building wheel for gast (setup.py) ... \u001b[?25l\u001b[?25hdone\n",
            "  Created wheel for gast: filename=gast-0.2.2-py3-none-any.whl size=7554 sha256=a6da491a68fb5ebdbf2e137cd3eeec2e611321af1123b873ef2f379421be3df1\n",
            "  Stored in directory: /root/.cache/pip/wheels/21/7f/02/420f32a803f7d0967b48dd823da3f558c5166991bfd204eef3\n",
            "Successfully built gast\n",
            "Installing collected packages: numpy, h5py, tensorflow-estimator, tensorboard, keras-applications, gast, tensorflow\n",
            "  Attempting uninstall: numpy\n",
            "    Found existing installation: numpy 1.21.6\n",
            "    Uninstalling numpy-1.21.6:\n",
            "      Successfully uninstalled numpy-1.21.6\n",
            "  Attempting uninstall: h5py\n",
            "    Found existing installation: h5py 3.1.0\n",
            "    Uninstalling h5py-3.1.0:\n",
            "      Successfully uninstalled h5py-3.1.0\n",
            "  Attempting uninstall: tensorflow-estimator\n",
            "    Found existing installation: tensorflow-estimator 2.8.0\n",
            "    Uninstalling tensorflow-estimator-2.8.0:\n",
            "      Successfully uninstalled tensorflow-estimator-2.8.0\n",
            "  Attempting uninstall: tensorboard\n",
            "    Found existing installation: tensorboard 2.8.0\n",
            "    Uninstalling tensorboard-2.8.0:\n",
            "      Successfully uninstalled tensorboard-2.8.0\n",
            "  Attempting uninstall: gast\n",
            "    Found existing installation: gast 0.5.3\n",
            "    Uninstalling gast-0.5.3:\n",
            "      Successfully uninstalled gast-0.5.3\n",
            "  Attempting uninstall: tensorflow\n",
            "    Found existing installation: tensorflow 2.8.2+zzzcolab20220719082949\n",
            "    Uninstalling tensorflow-2.8.2+zzzcolab20220719082949:\n",
            "      Successfully uninstalled tensorflow-2.8.2+zzzcolab20220719082949\n",
            "\u001b[31mERROR: pip's dependency resolver does not currently take into account all the packages that are installed. This behaviour is the source of the following dependency conflicts.\n",
            "xarray-einstats 0.2.2 requires numpy>=1.21, but you have numpy 1.18.5 which is incompatible.\n",
            "tensorflow-probability 0.16.0 requires gast>=0.3.2, but you have gast 0.2.2 which is incompatible.\n",
            "tables 3.7.0 requires numpy>=1.19.0, but you have numpy 1.18.5 which is incompatible.\n",
            "plotnine 0.8.0 requires numpy>=1.19.0, but you have numpy 1.18.5 which is incompatible.\n",
            "kapre 0.3.7 requires tensorflow>=2.0.0, but you have tensorflow 1.15.5 which is incompatible.\n",
            "jaxlib 0.3.15+cuda11.cudnn805 requires numpy>=1.19, but you have numpy 1.18.5 which is incompatible.\n",
            "jax 0.3.17 requires numpy>=1.20, but you have numpy 1.18.5 which is incompatible.\n",
            "cmdstanpy 1.0.7 requires numpy>=1.21, but you have numpy 1.18.5 which is incompatible.\u001b[0m\n",
            "Successfully installed gast-0.2.2 h5py-2.10.0 keras-applications-1.0.8 numpy-1.18.5 tensorboard-1.15.0 tensorflow-1.15.5 tensorflow-estimator-1.15.1\n"
          ]
        },
        {
          "output_type": "display_data",
          "data": {
            "application/vnd.colab-display-data+json": {
              "pip_warning": {
                "packages": [
                  "numpy"
                ]
              }
            }
          },
          "metadata": {}
        }
      ]
    },
    {
      "cell_type": "code",
      "execution_count": 3,
      "metadata": {
        "id": "YTuehW29pOiR"
      },
      "outputs": [],
      "source": [
        "import numpy as np\n",
        "import tensorflow as tf\n",
        "import matplotlib.pyplot as plt"
      ]
    },
    {
      "cell_type": "code",
      "source": [
        "learning_parameter = 0.01\n",
        "epochs = 300"
      ],
      "metadata": {
        "id": "MuEF7GVLpmU4"
      },
      "execution_count": 2,
      "outputs": []
    },
    {
      "cell_type": "code",
      "source": [
        "sample_points=50\n",
        "x_train=np.linspace(0,30,sample_points)\n",
        "y_train=6*x_train+7*np.random.randn(sample_points)"
      ],
      "metadata": {
        "id": "JpQIUJmUpy1R"
      },
      "execution_count": 4,
      "outputs": []
    },
    {
      "cell_type": "code",
      "source": [
        "plt.plot(x_train, y_train, 'o')\n",
        "plt.plot(x_train, 6*x_train)\n",
        "plt.show()"
      ],
      "metadata": {
        "colab": {
          "base_uri": "https://localhost:8080/",
          "height": 265
        },
        "id": "uQq-MiqLqIgq",
        "outputId": "a399d872-cc8b-41cf-a88c-df5455a0af33"
      },
      "execution_count": 5,
      "outputs": [
        {
          "output_type": "display_data",
          "data": {
            "text/plain": [
              "<Figure size 432x288 with 1 Axes>"
            ],
            "image/png": "[encoded data removed]"
          },
          "metadata": {
            "needs_background": "light"
          }
        }
      ]
    },
    {
      "cell_type": "code",
      "source": [
        "Y = tf.placeholder(tf.float32)\n",
        "X = tf.placeholder(tf.float32)\n",
        "\n",
        "W=tf.Variable(np.random.randn(), name='weights')\n",
        "B=tf.Variable(np.random.randn(), name='bias')"
      ],
      "metadata": {
        "id": "Y2Fi9e20qf4S"
      },
      "execution_count": 6,
      "outputs": []
    },
    {
      "cell_type": "code",
      "source": [
        "prediction=W*X+B\n",
        "cost_iteration=tf.reduce_sum((prediction-Y)**2)/(2*sample_points)\n",
        "optimizer=tf.train.GradientDescentOptimizer(learning_parameter).minimize(cost_iteration)\n",
        "init=tf.global_variables_initializer()"
      ],
      "metadata": {
        "id": "XKpf7L5YrWx9",
        "colab": {
          "base_uri": "https://localhost:8080/"
        },
        "outputId": "98fcf3b9-cd32-4c55-ab27-ae270a4e80f3"
      },
      "execution_count": 7,
      "outputs": [
        {
          "output_type": "stream",
          "name": "stderr",
          "text": [
            "WARNING:tensorflow:From /usr/local/lib/python3.7/dist-packages/tensorflow_core/python/ops/math_grad.py:1375: where (from tensorflow.python.ops.array_ops) is deprecated and will be removed in a future version.\n",
            "Instructions for updating:\n",
            "Use tf.where in 2.0, which has the same broadcast rule as np.where\n"
          ]
        }
      ]
    },
    {
      "cell_type": "code",
      "source": [
        "with tf.Session() as sess:\n",
        "  sess.run(init)\n",
        "  for epoch in range(epochs):\n",
        "    for x, y in zip(x_train, y_train):\n",
        "      if not epoch%40:\n",
        "        W1=sess.run(W)\n",
        "        B1=sess.run(B)\n",
        "        cost_iter=sess.run(cost_iteration, feed_dict={X:x, Y:y})\n",
        "        print('Epochs %f Cost %f Weight %f Bias %f' %(epoch, cost_iter, W1, B1))\n",
        "  Weight=sess.run(W)\n",
        "  Bias=sess.run(B)\n",
        "\n",
        "  plt.plot(x_train, y_train, 'o')\n",
        "  plt.plot(x_train, Weight*x_train+Bias)\n",
        "  plt.show()"
      ],
      "metadata": {
        "colab": {
          "base_uri": "https://localhost:8080/",
          "height": 1000
        },
        "id": "0WvJoMp1scmQ",
        "outputId": "207e0ed7-3adc-443e-edc4-ebc3fb4d1ffa"
      },
      "execution_count": 8,
      "outputs": [
        {
          "output_type": "stream",
          "name": "stdout",
          "text": [
            "Epochs 0.000000 Cost 3.453001 Weight -0.961007 Bias -0.652841\n",
            "Epochs 0.000000 Cost 0.861901 Weight -0.961007 Bias -0.652841\n",
            "Epochs 0.000000 Cost 2.034942 Weight -0.961007 Bias -0.652841\n",
            "Epochs 0.000000 Cost 0.228862 Weight -0.961007 Bias -0.652841\n",
            "Epochs 0.000000 Cost 2.636491 Weight -0.961007 Bias -0.652841\n",
            "Epochs 0.000000 Cost 11.650286 Weight -0.961007 Bias -0.652841\n",
            "Epochs 0.000000 Cost 4.696303 Weight -0.961007 Bias -0.652841\n",
            "Epochs 0.000000 Cost 11.920534 Weight -0.961007 Bias -0.652841\n",
            "Epochs 0.000000 Cost 5.772235 Weight -0.961007 Bias -0.652841\n",
            "Epochs 0.000000 Cost 24.245354 Weight -0.961007 Bias -0.652841\n",
            "Epochs 0.000000 Cost 24.263178 Weight -0.961007 Bias -0.652841\n",
            "Epochs 0.000000 Cost 30.348312 Weight -0.961007 Bias -0.652841\n",
            "Epochs 0.000000 Cost 23.246790 Weight -0.961007 Bias -0.652841\n",
            "Epochs 0.000000 Cost 23.582016 Weight -0.961007 Bias -0.652841\n",
            "Epochs 0.000000 Cost 54.589954 Weight -0.961007 Bias -0.652841\n",
            "Epochs 0.000000 Cost 58.796246 Weight -0.961007 Bias -0.652841\n",
            "Epochs 0.000000 Cost 67.071724 Weight -0.961007 Bias -0.652841\n",
            "Epochs 0.000000 Cost 67.673882 Weight -0.961007 Bias -0.652841\n",
            "Epochs 0.000000 Cost 99.261314 Weight -0.961007 Bias -0.652841\n",
            "Epochs 0.000000 Cost 72.425529 Weight -0.961007 Bias -0.652841\n",
            "Epochs 0.000000 Cost 72.192116 Weight -0.961007 Bias -0.652841\n",
            "Epochs 0.000000 Cost 89.544907 Weight -0.961007 Bias -0.652841\n",
            "Epochs 0.000000 Cost 87.680450 Weight -0.961007 Bias -0.652841\n",
            "Epochs 0.000000 Cost 88.747612 Weight -0.961007 Bias -0.652841\n",
            "Epochs 0.000000 Cost 139.143005 Weight -0.961007 Bias -0.652841\n",
            "Epochs 0.000000 Cost 103.597672 Weight -0.961007 Bias -0.652841\n",
            "Epochs 0.000000 Cost 109.853516 Weight -0.961007 Bias -0.652841\n",
            "Epochs 0.000000 Cost 155.139328 Weight -0.961007 Bias -0.652841\n",
            "Epochs 0.000000 Cost 153.065598 Weight -0.961007 Bias -0.652841\n",
            "Epochs 0.000000 Cost 176.796463 Weight -0.961007 Bias -0.652841\n",
            "Epochs 0.000000 Cost 177.322540 Weight -0.961007 Bias -0.652841\n",
            "Epochs 0.000000 Cost 152.437653 Weight -0.961007 Bias -0.652841\n",
            "Epochs 0.000000 Cost 188.326797 Weight -0.961007 Bias -0.652841\n",
            "Epochs 0.000000 Cost 204.192581 Weight -0.961007 Bias -0.652841\n",
            "Epochs 0.000000 Cost 252.368622 Weight -0.961007 Bias -0.652841\n",
            "Epochs 0.000000 Cost 238.941025 Weight -0.961007 Bias -0.652841\n",
            "Epochs 0.000000 Cost 249.039597 Weight -0.961007 Bias -0.652841\n",
            "Epochs 0.000000 Cost 253.877029 Weight -0.961007 Bias -0.652841\n",
            "Epochs 0.000000 Cost 294.167664 Weight -0.961007 Bias -0.652841\n",
            "Epochs 0.000000 Cost 310.457245 Weight -0.961007 Bias -0.652841\n",
            "Epochs 0.000000 Cost 285.959534 Weight -0.961007 Bias -0.652841\n",
            "Epochs 0.000000 Cost 329.302765 Weight -0.961007 Bias -0.652841\n",
            "Epochs 0.000000 Cost 284.119202 Weight -0.961007 Bias -0.652841\n",
            "Epochs 0.000000 Cost 312.197968 Weight -0.961007 Bias -0.652841\n",
            "Epochs 0.000000 Cost 351.285431 Weight -0.961007 Bias -0.652841\n",
            "Epochs 0.000000 Cost 363.945038 Weight -0.961007 Bias -0.652841\n",
            "Epochs 0.000000 Cost 385.050842 Weight -0.961007 Bias -0.652841\n",
            "Epochs 0.000000 Cost 372.181702 Weight -0.961007 Bias -0.652841\n",
            "Epochs 0.000000 Cost 417.365356 Weight -0.961007 Bias -0.652841\n",
            "Epochs 0.000000 Cost 431.056824 Weight -0.961007 Bias -0.652841\n",
            "Epochs 40.000000 Cost 3.453001 Weight -0.961007 Bias -0.652841\n",
            "Epochs 40.000000 Cost 0.861901 Weight -0.961007 Bias -0.652841\n",
            "Epochs 40.000000 Cost 2.034942 Weight -0.961007 Bias -0.652841\n",
            "Epochs 40.000000 Cost 0.228862 Weight -0.961007 Bias -0.652841\n",
            "Epochs 40.000000 Cost 2.636491 Weight -0.961007 Bias -0.652841\n",
            "Epochs 40.000000 Cost 11.650286 Weight -0.961007 Bias -0.652841\n",
            "Epochs 40.000000 Cost 4.696303 Weight -0.961007 Bias -0.652841\n",
            "Epochs 40.000000 Cost 11.920534 Weight -0.961007 Bias -0.652841\n",
            "Epochs 40.000000 Cost 5.772235 Weight -0.961007 Bias -0.652841\n",
            "Epochs 40.000000 Cost 24.245354 Weight -0.961007 Bias -0.652841\n",
            "Epochs 40.000000 Cost 24.263178 Weight -0.961007 Bias -0.652841\n",
            "Epochs 40.000000 Cost 30.348312 Weight -0.961007 Bias -0.652841\n",
            "Epochs 40.000000 Cost 23.246790 Weight -0.961007 Bias -0.652841\n",
            "Epochs 40.000000 Cost 23.582016 Weight -0.961007 Bias -0.652841\n",
            "Epochs 40.000000 Cost 54.589954 Weight -0.961007 Bias -0.652841\n",
            "Epochs 40.000000 Cost 58.796246 Weight -0.961007 Bias -0.652841\n",
            "Epochs 40.000000 Cost 67.071724 Weight -0.961007 Bias -0.652841\n",
            "Epochs 40.000000 Cost 67.673882 Weight -0.961007 Bias -0.652841\n",
            "Epochs 40.000000 Cost 99.261314 Weight -0.961007 Bias -0.652841\n",
            "Epochs 40.000000 Cost 72.425529 Weight -0.961007 Bias -0.652841\n",
            "Epochs 40.000000 Cost 72.192116 Weight -0.961007 Bias -0.652841\n",
            "Epochs 40.000000 Cost 89.544907 Weight -0.961007 Bias -0.652841\n",
            "Epochs 40.000000 Cost 87.680450 Weight -0.961007 Bias -0.652841\n",
            "Epochs 40.000000 Cost 88.747612 Weight -0.961007 Bias -0.652841\n",
            "Epochs 40.000000 Cost 139.143005 Weight -0.961007 Bias -0.652841\n",
            "Epochs 40.000000 Cost 103.597672 Weight -0.961007 Bias -0.652841\n",
            "Epochs 40.000000 Cost 109.853516 Weight -0.961007 Bias -0.652841\n",
            "Epochs 40.000000 Cost 155.139328 Weight -0.961007 Bias -0.652841\n",
            "Epochs 40.000000 Cost 153.065598 Weight -0.961007 Bias -0.652841\n",
            "Epochs 40.000000 Cost 176.796463 Weight -0.961007 Bias -0.652841\n",
            "Epochs 40.000000 Cost 177.322540 Weight -0.961007 Bias -0.652841\n",
            "Epochs 40.000000 Cost 152.437653 Weight -0.961007 Bias -0.652841\n",
            "Epochs 40.000000 Cost 188.326797 Weight -0.961007 Bias -0.652841\n",
            "Epochs 40.000000 Cost 204.192581 Weight -0.961007 Bias -0.652841\n",
            "Epochs 40.000000 Cost 252.368622 Weight -0.961007 Bias -0.652841\n",
            "Epochs 40.000000 Cost 238.941025 Weight -0.961007 Bias -0.652841\n",
            "Epochs 40.000000 Cost 249.039597 Weight -0.961007 Bias -0.652841\n",
            "Epochs 40.000000 Cost 253.877029 Weight -0.961007 Bias -0.652841\n",
            "Epochs 40.000000 Cost 294.167664 Weight -0.961007 Bias -0.652841\n",
            "Epochs 40.000000 Cost 310.457245 Weight -0.961007 Bias -0.652841\n",
            "Epochs 40.000000 Cost 285.959534 Weight -0.961007 Bias -0.652841\n",
            "Epochs 40.000000 Cost 329.302765 Weight -0.961007 Bias -0.652841\n",
            "Epochs 40.000000 Cost 284.119202 Weight -0.961007 Bias -0.652841\n",
            "Epochs 40.000000 Cost 312.197968 Weight -0.961007 Bias -0.652841\n",
            "Epochs 40.000000 Cost 351.285431 Weight -0.961007 Bias -0.652841\n",
            "Epochs 40.000000 Cost 363.945038 Weight -0.961007 Bias -0.652841\n",
            "Epochs 40.000000 Cost 385.050842 Weight -0.961007 Bias -0.652841\n",
            "Epochs 40.000000 Cost 372.181702 Weight -0.961007 Bias -0.652841\n",
            "Epochs 40.000000 Cost 417.365356 Weight -0.961007 Bias -0.652841\n",
            "Epochs 40.000000 Cost 431.056824 Weight -0.961007 Bias -0.652841\n",
            "Epochs 80.000000 Cost 3.453001 Weight -0.961007 Bias -0.652841\n",
            "Epochs 80.000000 Cost 0.861901 Weight -0.961007 Bias -0.652841\n",
            "Epochs 80.000000 Cost 2.034942 Weight -0.961007 Bias -0.652841\n",
            "Epochs 80.000000 Cost 0.228862 Weight -0.961007 Bias -0.652841\n",
            "Epochs 80.000000 Cost 2.636491 Weight -0.961007 Bias -0.652841\n",
            "Epochs 80.000000 Cost 11.650286 Weight -0.961007 Bias -0.652841\n",
            "Epochs 80.000000 Cost 4.696303 Weight -0.961007 Bias -0.652841\n",
            "Epochs 80.000000 Cost 11.920534 Weight -0.961007 Bias -0.652841\n",
            "Epochs 80.000000 Cost 5.772235 Weight -0.961007 Bias -0.652841\n",
            "Epochs 80.000000 Cost 24.245354 Weight -0.961007 Bias -0.652841\n",
            "Epochs 80.000000 Cost 24.263178 Weight -0.961007 Bias -0.652841\n",
            "Epochs 80.000000 Cost 30.348312 Weight -0.961007 Bias -0.652841\n",
            "Epochs 80.000000 Cost 23.246790 Weight -0.961007 Bias -0.652841\n",
            "Epochs 80.000000 Cost 23.582016 Weight -0.961007 Bias -0.652841\n",
            "Epochs 80.000000 Cost 54.589954 Weight -0.961007 Bias -0.652841\n",
            "Epochs 80.000000 Cost 58.796246 Weight -0.961007 Bias -0.652841\n",
            "Epochs 80.000000 Cost 67.071724 Weight -0.961007 Bias -0.652841\n",
            "Epochs 80.000000 Cost 67.673882 Weight -0.961007 Bias -0.652841\n",
            "Epochs 80.000000 Cost 99.261314 Weight -0.961007 Bias -0.652841\n",
            "Epochs 80.000000 Cost 72.425529 Weight -0.961007 Bias -0.652841\n",
            "Epochs 80.000000 Cost 72.192116 Weight -0.961007 Bias -0.652841\n",
            "Epochs 80.000000 Cost 89.544907 Weight -0.961007 Bias -0.652841\n",
            "Epochs 80.000000 Cost 87.680450 Weight -0.961007 Bias -0.652841\n",
            "Epochs 80.000000 Cost 88.747612 Weight -0.961007 Bias -0.652841\n",
            "Epochs 80.000000 Cost 139.143005 Weight -0.961007 Bias -0.652841\n",
            "Epochs 80.000000 Cost 103.597672 Weight -0.961007 Bias -0.652841\n",
            "Epochs 80.000000 Cost 109.853516 Weight -0.961007 Bias -0.652841\n",
            "Epochs 80.000000 Cost 155.139328 Weight -0.961007 Bias -0.652841\n",
            "Epochs 80.000000 Cost 153.065598 Weight -0.961007 Bias -0.652841\n",
            "Epochs 80.000000 Cost 176.796463 Weight -0.961007 Bias -0.652841\n",
            "Epochs 80.000000 Cost 177.322540 Weight -0.961007 Bias -0.652841\n",
            "Epochs 80.000000 Cost 152.437653 Weight -0.961007 Bias -0.652841\n",
            "Epochs 80.000000 Cost 188.326797 Weight -0.961007 Bias -0.652841\n",
            "Epochs 80.000000 Cost 204.192581 Weight -0.961007 Bias -0.652841\n",
            "Epochs 80.000000 Cost 252.368622 Weight -0.961007 Bias -0.652841\n",
            "Epochs 80.000000 Cost 238.941025 Weight -0.961007 Bias -0.652841\n",
            "Epochs 80.000000 Cost 249.039597 Weight -0.961007 Bias -0.652841\n",
            "Epochs 80.000000 Cost 253.877029 Weight -0.961007 Bias -0.652841\n",
            "Epochs 80.000000 Cost 294.167664 Weight -0.961007 Bias -0.652841\n",
            "Epochs 80.000000 Cost 310.457245 Weight -0.961007 Bias -0.652841\n",
            "Epochs 80.000000 Cost 285.959534 Weight -0.961007 Bias -0.652841\n",
            "Epochs 80.000000 Cost 329.302765 Weight -0.961007 Bias -0.652841\n",
            "Epochs 80.000000 Cost 284.119202 Weight -0.961007 Bias -0.652841\n",
            "Epochs 80.000000 Cost 312.197968 Weight -0.961007 Bias -0.652841\n",
            "Epochs 80.000000 Cost 351.285431 Weight -0.961007 Bias -0.652841\n",
            "Epochs 80.000000 Cost 363.945038 Weight -0.961007 Bias -0.652841\n",
            "Epochs 80.000000 Cost 385.050842 Weight -0.961007 Bias -0.652841\n",
            "Epochs 80.000000 Cost 372.181702 Weight -0.961007 Bias -0.652841\n",
            "Epochs 80.000000 Cost 417.365356 Weight -0.961007 Bias -0.652841\n",
            "Epochs 80.000000 Cost 431.056824 Weight -0.961007 Bias -0.652841\n",
            "Epochs 120.000000 Cost 3.453001 Weight -0.961007 Bias -0.652841\n",
            "Epochs 120.000000 Cost 0.861901 Weight -0.961007 Bias -0.652841\n",
            "Epochs 120.000000 Cost 2.034942 Weight -0.961007 Bias -0.652841\n",
            "Epochs 120.000000 Cost 0.228862 Weight -0.961007 Bias -0.652841\n",
            "Epochs 120.000000 Cost 2.636491 Weight -0.961007 Bias -0.652841\n",
            "Epochs 120.000000 Cost 11.650286 Weight -0.961007 Bias -0.652841\n",
            "Epochs 120.000000 Cost 4.696303 Weight -0.961007 Bias -0.652841\n",
            "Epochs 120.000000 Cost 11.920534 Weight -0.961007 Bias -0.652841\n",
            "Epochs 120.000000 Cost 5.772235 Weight -0.961007 Bias -0.652841\n",
            "Epochs 120.000000 Cost 24.245354 Weight -0.961007 Bias -0.652841\n",
            "Epochs 120.000000 Cost 24.263178 Weight -0.961007 Bias -0.652841\n",
            "Epochs 120.000000 Cost 30.348312 Weight -0.961007 Bias -0.652841\n",
            "Epochs 120.000000 Cost 23.246790 Weight -0.961007 Bias -0.652841\n",
            "Epochs 120.000000 Cost 23.582016 Weight -0.961007 Bias -0.652841\n",
            "Epochs 120.000000 Cost 54.589954 Weight -0.961007 Bias -0.652841\n",
            "Epochs 120.000000 Cost 58.796246 Weight -0.961007 Bias -0.652841\n",
            "Epochs 120.000000 Cost 67.071724 Weight -0.961007 Bias -0.652841\n",
            "Epochs 120.000000 Cost 67.673882 Weight -0.961007 Bias -0.652841\n",
            "Epochs 120.000000 Cost 99.261314 Weight -0.961007 Bias -0.652841\n",
            "Epochs 120.000000 Cost 72.425529 Weight -0.961007 Bias -0.652841\n",
            "Epochs 120.000000 Cost 72.192116 Weight -0.961007 Bias -0.652841\n",
            "Epochs 120.000000 Cost 89.544907 Weight -0.961007 Bias -0.652841\n",
            "Epochs 120.000000 Cost 87.680450 Weight -0.961007 Bias -0.652841\n",
            "Epochs 120.000000 Cost 88.747612 Weight -0.961007 Bias -0.652841\n",
            "Epochs 120.000000 Cost 139.143005 Weight -0.961007 Bias -0.652841\n",
            "Epochs 120.000000 Cost 103.597672 Weight -0.961007 Bias -0.652841\n",
            "Epochs 120.000000 Cost 109.853516 Weight -0.961007 Bias -0.652841\n",
            "Epochs 120.000000 Cost 155.139328 Weight -0.961007 Bias -0.652841\n",
            "Epochs 120.000000 Cost 153.065598 Weight -0.961007 Bias -0.652841\n",
            "Epochs 120.000000 Cost 176.796463 Weight -0.961007 Bias -0.652841\n",
            "Epochs 120.000000 Cost 177.322540 Weight -0.961007 Bias -0.652841\n",
            "Epochs 120.000000 Cost 152.437653 Weight -0.961007 Bias -0.652841\n",
            "Epochs 120.000000 Cost 188.326797 Weight -0.961007 Bias -0.652841\n",
            "Epochs 120.000000 Cost 204.192581 Weight -0.961007 Bias -0.652841\n",
            "Epochs 120.000000 Cost 252.368622 Weight -0.961007 Bias -0.652841\n",
            "Epochs 120.000000 Cost 238.941025 Weight -0.961007 Bias -0.652841\n",
            "Epochs 120.000000 Cost 249.039597 Weight -0.961007 Bias -0.652841\n",
            "Epochs 120.000000 Cost 253.877029 Weight -0.961007 Bias -0.652841\n",
            "Epochs 120.000000 Cost 294.167664 Weight -0.961007 Bias -0.652841\n",
            "Epochs 120.000000 Cost 310.457245 Weight -0.961007 Bias -0.652841\n",
            "Epochs 120.000000 Cost 285.959534 Weight -0.961007 Bias -0.652841\n",
            "Epochs 120.000000 Cost 329.302765 Weight -0.961007 Bias -0.652841\n",
            "Epochs 120.000000 Cost 284.119202 Weight -0.961007 Bias -0.652841\n",
            "Epochs 120.000000 Cost 312.197968 Weight -0.961007 Bias -0.652841\n",
            "Epochs 120.000000 Cost 351.285431 Weight -0.961007 Bias -0.652841\n",
            "Epochs 120.000000 Cost 363.945038 Weight -0.961007 Bias -0.652841\n",
            "Epochs 120.000000 Cost 385.050842 Weight -0.961007 Bias -0.652841\n",
            "Epochs 120.000000 Cost 372.181702 Weight -0.961007 Bias -0.652841\n",
            "Epochs 120.000000 Cost 417.365356 Weight -0.961007 Bias -0.652841\n",
            "Epochs 120.000000 Cost 431.056824 Weight -0.961007 Bias -0.652841\n",
            "Epochs 160.000000 Cost 3.453001 Weight -0.961007 Bias -0.652841\n",
            "Epochs 160.000000 Cost 0.861901 Weight -0.961007 Bias -0.652841\n",
            "Epochs 160.000000 Cost 2.034942 Weight -0.961007 Bias -0.652841\n",
            "Epochs 160.000000 Cost 0.228862 Weight -0.961007 Bias -0.652841\n",
            "Epochs 160.000000 Cost 2.636491 Weight -0.961007 Bias -0.652841\n",
            "Epochs 160.000000 Cost 11.650286 Weight -0.961007 Bias -0.652841\n",
            "Epochs 160.000000 Cost 4.696303 Weight -0.961007 Bias -0.652841\n",
            "Epochs 160.000000 Cost 11.920534 Weight -0.961007 Bias -0.652841\n",
            "Epochs 160.000000 Cost 5.772235 Weight -0.961007 Bias -0.652841\n",
            "Epochs 160.000000 Cost 24.245354 Weight -0.961007 Bias -0.652841\n",
            "Epochs 160.000000 Cost 24.263178 Weight -0.961007 Bias -0.652841\n",
            "Epochs 160.000000 Cost 30.348312 Weight -0.961007 Bias -0.652841\n",
            "Epochs 160.000000 Cost 23.246790 Weight -0.961007 Bias -0.652841\n",
            "Epochs 160.000000 Cost 23.582016 Weight -0.961007 Bias -0.652841\n",
            "Epochs 160.000000 Cost 54.589954 Weight -0.961007 Bias -0.652841\n",
            "Epochs 160.000000 Cost 58.796246 Weight -0.961007 Bias -0.652841\n",
            "Epochs 160.000000 Cost 67.071724 Weight -0.961007 Bias -0.652841\n",
            "Epochs 160.000000 Cost 67.673882 Weight -0.961007 Bias -0.652841\n",
            "Epochs 160.000000 Cost 99.261314 Weight -0.961007 Bias -0.652841\n",
            "Epochs 160.000000 Cost 72.425529 Weight -0.961007 Bias -0.652841\n",
            "Epochs 160.000000 Cost 72.192116 Weight -0.961007 Bias -0.652841\n",
            "Epochs 160.000000 Cost 89.544907 Weight -0.961007 Bias -0.652841\n",
            "Epochs 160.000000 Cost 87.680450 Weight -0.961007 Bias -0.652841\n",
            "Epochs 160.000000 Cost 88.747612 Weight -0.961007 Bias -0.652841\n",
            "Epochs 160.000000 Cost 139.143005 Weight -0.961007 Bias -0.652841\n",
            "Epochs 160.000000 Cost 103.597672 Weight -0.961007 Bias -0.652841\n",
            "Epochs 160.000000 Cost 109.853516 Weight -0.961007 Bias -0.652841\n",
            "Epochs 160.000000 Cost 155.139328 Weight -0.961007 Bias -0.652841\n",
            "Epochs 160.000000 Cost 153.065598 Weight -0.961007 Bias -0.652841\n",
            "Epochs 160.000000 Cost 176.796463 Weight -0.961007 Bias -0.652841\n",
            "Epochs 160.000000 Cost 177.322540 Weight -0.961007 Bias -0.652841\n",
            "Epochs 160.000000 Cost 152.437653 Weight -0.961007 Bias -0.652841\n",
            "Epochs 160.000000 Cost 188.326797 Weight -0.961007 Bias -0.652841\n",
            "Epochs 160.000000 Cost 204.192581 Weight -0.961007 Bias -0.652841\n",
            "Epochs 160.000000 Cost 252.368622 Weight -0.961007 Bias -0.652841\n",
            "Epochs 160.000000 Cost 238.941025 Weight -0.961007 Bias -0.652841\n",
            "Epochs 160.000000 Cost 249.039597 Weight -0.961007 Bias -0.652841\n",
            "Epochs 160.000000 Cost 253.877029 Weight -0.961007 Bias -0.652841\n",
            "Epochs 160.000000 Cost 294.167664 Weight -0.961007 Bias -0.652841\n",
            "Epochs 160.000000 Cost 310.457245 Weight -0.961007 Bias -0.652841\n",
            "Epochs 160.000000 Cost 285.959534 Weight -0.961007 Bias -0.652841\n",
            "Epochs 160.000000 Cost 329.302765 Weight -0.961007 Bias -0.652841\n",
            "Epochs 160.000000 Cost 284.119202 Weight -0.961007 Bias -0.652841\n",
            "Epochs 160.000000 Cost 312.197968 Weight -0.961007 Bias -0.652841\n",
            "Epochs 160.000000 Cost 351.285431 Weight -0.961007 Bias -0.652841\n",
            "Epochs 160.000000 Cost 363.945038 Weight -0.961007 Bias -0.652841\n",
            "Epochs 160.000000 Cost 385.050842 Weight -0.961007 Bias -0.652841\n",
            "Epochs 160.000000 Cost 372.181702 Weight -0.961007 Bias -0.652841\n",
            "Epochs 160.000000 Cost 417.365356 Weight -0.961007 Bias -0.652841\n",
            "Epochs 160.000000 Cost 431.056824 Weight -0.961007 Bias -0.652841\n",
            "Epochs 200.000000 Cost 3.453001 Weight -0.961007 Bias -0.652841\n",
            "Epochs 200.000000 Cost 0.861901 Weight -0.961007 Bias -0.652841\n",
            "Epochs 200.000000 Cost 2.034942 Weight -0.961007 Bias -0.652841\n",
            "Epochs 200.000000 Cost 0.228862 Weight -0.961007 Bias -0.652841\n",
            "Epochs 200.000000 Cost 2.636491 Weight -0.961007 Bias -0.652841\n",
            "Epochs 200.000000 Cost 11.650286 Weight -0.961007 Bias -0.652841\n",
            "Epochs 200.000000 Cost 4.696303 Weight -0.961007 Bias -0.652841\n",
            "Epochs 200.000000 Cost 11.920534 Weight -0.961007 Bias -0.652841\n",
            "Epochs 200.000000 Cost 5.772235 Weight -0.961007 Bias -0.652841\n",
            "Epochs 200.000000 Cost 24.245354 Weight -0.961007 Bias -0.652841\n",
            "Epochs 200.000000 Cost 24.263178 Weight -0.961007 Bias -0.652841\n",
            "Epochs 200.000000 Cost 30.348312 Weight -0.961007 Bias -0.652841\n",
            "Epochs 200.000000 Cost 23.246790 Weight -0.961007 Bias -0.652841\n",
            "Epochs 200.000000 Cost 23.582016 Weight -0.961007 Bias -0.652841\n",
            "Epochs 200.000000 Cost 54.589954 Weight -0.961007 Bias -0.652841\n",
            "Epochs 200.000000 Cost 58.796246 Weight -0.961007 Bias -0.652841\n",
            "Epochs 200.000000 Cost 67.071724 Weight -0.961007 Bias -0.652841\n",
            "Epochs 200.000000 Cost 67.673882 Weight -0.961007 Bias -0.652841\n",
            "Epochs 200.000000 Cost 99.261314 Weight -0.961007 Bias -0.652841\n",
            "Epochs 200.000000 Cost 72.425529 Weight -0.961007 Bias -0.652841\n",
            "Epochs 200.000000 Cost 72.192116 Weight -0.961007 Bias -0.652841\n",
            "Epochs 200.000000 Cost 89.544907 Weight -0.961007 Bias -0.652841\n",
            "Epochs 200.000000 Cost 87.680450 Weight -0.961007 Bias -0.652841\n",
            "Epochs 200.000000 Cost 88.747612 Weight -0.961007 Bias -0.652841\n",
            "Epochs 200.000000 Cost 139.143005 Weight -0.961007 Bias -0.652841\n",
            "Epochs 200.000000 Cost 103.597672 Weight -0.961007 Bias -0.652841\n",
            "Epochs 200.000000 Cost 109.853516 Weight -0.961007 Bias -0.652841\n",
            "Epochs 200.000000 Cost 155.139328 Weight -0.961007 Bias -0.652841\n",
            "Epochs 200.000000 Cost 153.065598 Weight -0.961007 Bias -0.652841\n",
            "Epochs 200.000000 Cost 176.796463 Weight -0.961007 Bias -0.652841\n",
            "Epochs 200.000000 Cost 177.322540 Weight -0.961007 Bias -0.652841\n",
            "Epochs 200.000000 Cost 152.437653 Weight -0.961007 Bias -0.652841\n",
            "Epochs 200.000000 Cost 188.326797 Weight -0.961007 Bias -0.652841\n",
            "Epochs 200.000000 Cost 204.192581 Weight -0.961007 Bias -0.652841\n",
            "Epochs 200.000000 Cost 252.368622 Weight -0.961007 Bias -0.652841\n",
            "Epochs 200.000000 Cost 238.941025 Weight -0.961007 Bias -0.652841\n",
            "Epochs 200.000000 Cost 249.039597 Weight -0.961007 Bias -0.652841\n",
            "Epochs 200.000000 Cost 253.877029 Weight -0.961007 Bias -0.652841\n",
            "Epochs 200.000000 Cost 294.167664 Weight -0.961007 Bias -0.652841\n",
            "Epochs 200.000000 Cost 310.457245 Weight -0.961007 Bias -0.652841\n",
            "Epochs 200.000000 Cost 285.959534 Weight -0.961007 Bias -0.652841\n",
            "Epochs 200.000000 Cost 329.302765 Weight -0.961007 Bias -0.652841\n",
            "Epochs 200.000000 Cost 284.119202 Weight -0.961007 Bias -0.652841\n",
            "Epochs 200.000000 Cost 312.197968 Weight -0.961007 Bias -0.652841\n",
            "Epochs 200.000000 Cost 351.285431 Weight -0.961007 Bias -0.652841\n",
            "Epochs 200.000000 Cost 363.945038 Weight -0.961007 Bias -0.652841\n",
            "Epochs 200.000000 Cost 385.050842 Weight -0.961007 Bias -0.652841\n",
            "Epochs 200.000000 Cost 372.181702 Weight -0.961007 Bias -0.652841\n",
            "Epochs 200.000000 Cost 417.365356 Weight -0.961007 Bias -0.652841\n",
            "Epochs 200.000000 Cost 431.056824 Weight -0.961007 Bias -0.652841\n",
            "Epochs 240.000000 Cost 3.453001 Weight -0.961007 Bias -0.652841\n",
            "Epochs 240.000000 Cost 0.861901 Weight -0.961007 Bias -0.652841\n",
            "Epochs 240.000000 Cost 2.034942 Weight -0.961007 Bias -0.652841\n",
            "Epochs 240.000000 Cost 0.228862 Weight -0.961007 Bias -0.652841\n",
            "Epochs 240.000000 Cost 2.636491 Weight -0.961007 Bias -0.652841\n",
            "Epochs 240.000000 Cost 11.650286 Weight -0.961007 Bias -0.652841\n",
            "Epochs 240.000000 Cost 4.696303 Weight -0.961007 Bias -0.652841\n",
            "Epochs 240.000000 Cost 11.920534 Weight -0.961007 Bias -0.652841\n",
            "Epochs 240.000000 Cost 5.772235 Weight -0.961007 Bias -0.652841\n",
            "Epochs 240.000000 Cost 24.245354 Weight -0.961007 Bias -0.652841\n",
            "Epochs 240.000000 Cost 24.263178 Weight -0.961007 Bias -0.652841\n",
            "Epochs 240.000000 Cost 30.348312 Weight -0.961007 Bias -0.652841\n",
            "Epochs 240.000000 Cost 23.246790 Weight -0.961007 Bias -0.652841\n",
            "Epochs 240.000000 Cost 23.582016 Weight -0.961007 Bias -0.652841\n",
            "Epochs 240.000000 Cost 54.589954 Weight -0.961007 Bias -0.652841\n",
            "Epochs 240.000000 Cost 58.796246 Weight -0.961007 Bias -0.652841\n",
            "Epochs 240.000000 Cost 67.071724 Weight -0.961007 Bias -0.652841\n",
            "Epochs 240.000000 Cost 67.673882 Weight -0.961007 Bias -0.652841\n",
            "Epochs 240.000000 Cost 99.261314 Weight -0.961007 Bias -0.652841\n",
            "Epochs 240.000000 Cost 72.425529 Weight -0.961007 Bias -0.652841\n",
            "Epochs 240.000000 Cost 72.192116 Weight -0.961007 Bias -0.652841\n",
            "Epochs 240.000000 Cost 89.544907 Weight -0.961007 Bias -0.652841\n",
            "Epochs 240.000000 Cost 87.680450 Weight -0.961007 Bias -0.652841\n",
            "Epochs 240.000000 Cost 88.747612 Weight -0.961007 Bias -0.652841\n",
            "Epochs 240.000000 Cost 139.143005 Weight -0.961007 Bias -0.652841\n",
            "Epochs 240.000000 Cost 103.597672 Weight -0.961007 Bias -0.652841\n",
            "Epochs 240.000000 Cost 109.853516 Weight -0.961007 Bias -0.652841\n",
            "Epochs 240.000000 Cost 155.139328 Weight -0.961007 Bias -0.652841\n",
            "Epochs 240.000000 Cost 153.065598 Weight -0.961007 Bias -0.652841\n",
            "Epochs 240.000000 Cost 176.796463 Weight -0.961007 Bias -0.652841\n",
            "Epochs 240.000000 Cost 177.322540 Weight -0.961007 Bias -0.652841\n",
            "Epochs 240.000000 Cost 152.437653 Weight -0.961007 Bias -0.652841\n",
            "Epochs 240.000000 Cost 188.326797 Weight -0.961007 Bias -0.652841\n",
            "Epochs 240.000000 Cost 204.192581 Weight -0.961007 Bias -0.652841\n",
            "Epochs 240.000000 Cost 252.368622 Weight -0.961007 Bias -0.652841\n",
            "Epochs 240.000000 Cost 238.941025 Weight -0.961007 Bias -0.652841\n",
            "Epochs 240.000000 Cost 249.039597 Weight -0.961007 Bias -0.652841\n",
            "Epochs 240.000000 Cost 253.877029 Weight -0.961007 Bias -0.652841\n",
            "Epochs 240.000000 Cost 294.167664 Weight -0.961007 Bias -0.652841\n",
            "Epochs 240.000000 Cost 310.457245 Weight -0.961007 Bias -0.652841\n",
            "Epochs 240.000000 Cost 285.959534 Weight -0.961007 Bias -0.652841\n",
            "Epochs 240.000000 Cost 329.302765 Weight -0.961007 Bias -0.652841\n",
            "Epochs 240.000000 Cost 284.119202 Weight -0.961007 Bias -0.652841\n",
            "Epochs 240.000000 Cost 312.197968 Weight -0.961007 Bias -0.652841\n",
            "Epochs 240.000000 Cost 351.285431 Weight -0.961007 Bias -0.652841\n",
            "Epochs 240.000000 Cost 363.945038 Weight -0.961007 Bias -0.652841\n",
            "Epochs 240.000000 Cost 385.050842 Weight -0.961007 Bias -0.652841\n",
            "Epochs 240.000000 Cost 372.181702 Weight -0.961007 Bias -0.652841\n",
            "Epochs 240.000000 Cost 417.365356 Weight -0.961007 Bias -0.652841\n",
            "Epochs 240.000000 Cost 431.056824 Weight -0.961007 Bias -0.652841\n",
            "Epochs 280.000000 Cost 3.453001 Weight -0.961007 Bias -0.652841\n",
            "Epochs 280.000000 Cost 0.861901 Weight -0.961007 Bias -0.652841\n",
            "Epochs 280.000000 Cost 2.034942 Weight -0.961007 Bias -0.652841\n",
            "Epochs 280.000000 Cost 0.228862 Weight -0.961007 Bias -0.652841\n",
            "Epochs 280.000000 Cost 2.636491 Weight -0.961007 Bias -0.652841\n",
            "Epochs 280.000000 Cost 11.650286 Weight -0.961007 Bias -0.652841\n",
            "Epochs 280.000000 Cost 4.696303 Weight -0.961007 Bias -0.652841\n",
            "Epochs 280.000000 Cost 11.920534 Weight -0.961007 Bias -0.652841\n",
            "Epochs 280.000000 Cost 5.772235 Weight -0.961007 Bias -0.652841\n",
            "Epochs 280.000000 Cost 24.245354 Weight -0.961007 Bias -0.652841\n",
            "Epochs 280.000000 Cost 24.263178 Weight -0.961007 Bias -0.652841\n",
            "Epochs 280.000000 Cost 30.348312 Weight -0.961007 Bias -0.652841\n",
            "Epochs 280.000000 Cost 23.246790 Weight -0.961007 Bias -0.652841\n",
            "Epochs 280.000000 Cost 23.582016 Weight -0.961007 Bias -0.652841\n",
            "Epochs 280.000000 Cost 54.589954 Weight -0.961007 Bias -0.652841\n",
            "Epochs 280.000000 Cost 58.796246 Weight -0.961007 Bias -0.652841\n",
            "Epochs 280.000000 Cost 67.071724 Weight -0.961007 Bias -0.652841\n",
            "Epochs 280.000000 Cost 67.673882 Weight -0.961007 Bias -0.652841\n",
            "Epochs 280.000000 Cost 99.261314 Weight -0.961007 Bias -0.652841\n",
            "Epochs 280.000000 Cost 72.425529 Weight -0.961007 Bias -0.652841\n",
            "Epochs 280.000000 Cost 72.192116 Weight -0.961007 Bias -0.652841\n",
            "Epochs 280.000000 Cost 89.544907 Weight -0.961007 Bias -0.652841\n",
            "Epochs 280.000000 Cost 87.680450 Weight -0.961007 Bias -0.652841\n",
            "Epochs 280.000000 Cost 88.747612 Weight -0.961007 Bias -0.652841\n",
            "Epochs 280.000000 Cost 139.143005 Weight -0.961007 Bias -0.652841\n",
            "Epochs 280.000000 Cost 103.597672 Weight -0.961007 Bias -0.652841\n",
            "Epochs 280.000000 Cost 109.853516 Weight -0.961007 Bias -0.652841\n",
            "Epochs 280.000000 Cost 155.139328 Weight -0.961007 Bias -0.652841\n",
            "Epochs 280.000000 Cost 153.065598 Weight -0.961007 Bias -0.652841\n",
            "Epochs 280.000000 Cost 176.796463 Weight -0.961007 Bias -0.652841\n",
            "Epochs 280.000000 Cost 177.322540 Weight -0.961007 Bias -0.652841\n",
            "Epochs 280.000000 Cost 152.437653 Weight -0.961007 Bias -0.652841\n",
            "Epochs 280.000000 Cost 188.326797 Weight -0.961007 Bias -0.652841\n",
            "Epochs 280.000000 Cost 204.192581 Weight -0.961007 Bias -0.652841\n",
            "Epochs 280.000000 Cost 252.368622 Weight -0.961007 Bias -0.652841\n",
            "Epochs 280.000000 Cost 238.941025 Weight -0.961007 Bias -0.652841\n",
            "Epochs 280.000000 Cost 249.039597 Weight -0.961007 Bias -0.652841\n",
            "Epochs 280.000000 Cost 253.877029 Weight -0.961007 Bias -0.652841\n",
            "Epochs 280.000000 Cost 294.167664 Weight -0.961007 Bias -0.652841\n",
            "Epochs 280.000000 Cost 310.457245 Weight -0.961007 Bias -0.652841\n",
            "Epochs 280.000000 Cost 285.959534 Weight -0.961007 Bias -0.652841\n",
            "Epochs 280.000000 Cost 329.302765 Weight -0.961007 Bias -0.652841\n",
            "Epochs 280.000000 Cost 284.119202 Weight -0.961007 Bias -0.652841\n",
            "Epochs 280.000000 Cost 312.197968 Weight -0.961007 Bias -0.652841\n",
            "Epochs 280.000000 Cost 351.285431 Weight -0.961007 Bias -0.652841\n",
            "Epochs 280.000000 Cost 363.945038 Weight -0.961007 Bias -0.652841\n",
            "Epochs 280.000000 Cost 385.050842 Weight -0.961007 Bias -0.652841\n",
            "Epochs 280.000000 Cost 372.181702 Weight -0.961007 Bias -0.652841\n",
            "Epochs 280.000000 Cost 417.365356 Weight -0.961007 Bias -0.652841\n",
            "Epochs 280.000000 Cost 431.056824 Weight -0.961007 Bias -0.652841\n"
          ]
        },
        {
          "output_type": "display_data",
          "data": {
            "text/plain": [
              "<Figure size 432x288 with 1 Axes>"
            ],
            "image/png": "[encoded data removed]"
          },
          "metadata": {
            "needs_background": "light"
          }
        }
      ]
    },
    {
      "cell_type": "code",
      "source": [
        "with tf.name_scope(\"Model\") as scope:\n",
        "  prediction=W*X+Bias\n",
        "  weight_histogram=tf.summary.histogram(\"Weights\", W)\n",
        "  bias_histogram=tf.summary.histogram(\"Bias\", B)\n",
        "\n",
        "with tf.name_scope(\"Cost_function\") as scope:\n",
        "  cost_iteration=tf.reduce_sum((prediction-Y)**2)/(2*sample_points)\n",
        "\n",
        "cost_summary=tf.summary.scalar(\"Cost\", cost_iteration)"
      ],
      "metadata": {
        "id": "pgRNeuxmt6oF"
      },
      "execution_count": 9,
      "outputs": []
    },
    {
      "cell_type": "code",
      "source": [
        "with tf.name_scope(\"Training\") as scope:\n",
        "  optimizer = tf.train.GradientDescentOptimizer(learning_parameter).minimize(cost_iteration)\n",
        "  \n",
        "  init=tf.global_variables_initializer()\n",
        "\n",
        "  merged_summary=tf.summary.merge_all()"
      ],
      "metadata": {
        "id": "25uzTYi2vBiv"
      },
      "execution_count": 10,
      "outputs": []
    },
    {
      "cell_type": "code",
      "source": [
        "with tf.Session() as sess:\n",
        "  sess.run(init)\n",
        "  writer=tf.summary.FileWriter('./log', sess.graph)\n",
        "  for epoch in range(epochs):\n",
        "    for x, y in zip(x_train, y_train):\n",
        "      sess.run(optimizer, feed_dict={X:x, Y:y})\n",
        "\n",
        "      summary_epochs=sess.run(merged_summary, feed_dict={X:x, Y:y})\n",
        "      writer.add_summary(summary_epochs, epoch)\n",
        "      if not epoch%40:\n",
        "        W1=sess.run(W)\n",
        "        B1=sess.run(B)\n",
        "        cost_iter=sess.run(cost_iteration, feed_dict={X:x, Y:y})\n",
        "        print('Epochs %f Cost %f Weight %f Bias %f' %(epoch, cost_iter, W1, B1))\n",
        "  Weight=sess.run(W)\n",
        "  Bias=sess.run(B)\n",
        "\n",
        "  plt.plot(x_train, y_train, 'o')\n",
        "  plt.plot(x_train, Weight*x_train+Bias)\n",
        "  plt.show()"
      ],
      "metadata": {
        "colab": {
          "base_uri": "https://localhost:8080/",
          "height": 1000
        },
        "outputId": "b9ed92fa-7700-472b-d3d9-df0a454b2914",
        "id": "NRL5cNHbwl4b"
      },
      "execution_count": 11,
      "outputs": [
        {
          "output_type": "stream",
          "name": "stdout",
          "text": [
            "Epochs 0.000000 Cost 3.453001 Weight -0.961007 Bias -0.652841\n",
            "Epochs 0.000000 Cost 0.861772 Weight -0.959870 Bias -0.652841\n",
            "Epochs 0.000000 Cost 2.033325 Weight -0.956377 Bias -0.652841\n",
            "Epochs 0.000000 Cost 0.227741 Weight -0.954623 Bias -0.652841\n",
            "Epochs 0.000000 Cost 2.625107 Weight -0.946678 Bias -0.652841\n",
            "Epochs 0.000000 Cost 11.576843 Weight -0.925807 Bias -0.652841\n",
            "Epochs 0.000000 Cost 4.615412 Weight -0.909981 Bias -0.652841\n",
            "Epochs 0.000000 Cost 11.683691 Weight -0.880574 Bias -0.652841\n",
            "Epochs 0.000000 Cost 5.531026 Weight -0.857425 Bias -0.652841\n",
            "Epochs 0.000000 Cost 23.399733 Weight -0.803790 Bias -0.652841\n",
            "Epochs 0.000000 Cost 22.975771 Weight -0.744653 Bias -0.652841\n",
            "Epochs 0.000000 Cost 28.244667 Weight -0.672414 Bias -0.652841\n",
            "Epochs 0.000000 Cost 20.790890 Weight -0.604683 Bias -0.652841\n",
            "Epochs 0.000000 Cost 20.381557 Weight -0.531896 Bias -0.652841\n",
            "Epochs 0.000000 Cost 47.852230 Weight -0.411541 Bias -0.652841\n",
            "Epochs 0.000000 Cost 49.595818 Weight -0.279971 Bias -0.652841\n",
            "Epochs 0.000000 Cost 54.438156 Weight -0.132590 Bias -0.652841\n",
            "Epochs 0.000000 Cost 51.906708 Weight 0.020706 Bias -0.652841\n",
            "Epochs 0.000000 Cost 75.088959 Weight 0.216453 Bias -0.652841\n",
            "Epochs 0.000000 Cost 48.265942 Weight 0.382581 Bias -0.652841\n",
            "Epochs 0.000000 Cost 44.168358 Weight 0.550370 Bias -0.652841\n",
            "Epochs 0.000000 Cost 52.867592 Weight 0.743732 Bias -0.652841\n",
            "Epochs 0.000000 Cost 46.391861 Weight 0.934125 Bias -0.652841\n",
            "Epochs 0.000000 Cost 42.044449 Weight 1.124281 Bias -0.652841\n",
            "Epochs 0.000000 Cost 69.801605 Weight 1.380889 Bias -0.652841\n",
            "Epochs 0.000000 Cost 39.498779 Weight 1.582739 Bias -0.652841\n",
            "Epochs 0.000000 Cost 37.282188 Weight 1.787508 Bias -0.652841\n",
            "Epochs 0.000000 Cost 55.944695 Weight 2.049090 Bias -0.652841\n",
            "Epochs 0.000000 Cost 46.075912 Weight 2.296352 Bias -0.652841\n",
            "Epochs 0.000000 Cost 49.552052 Weight 2.563140 Bias -0.652841\n",
            "Epochs 0.000000 Cost 40.724743 Weight 2.814528 Bias -0.652841\n",
            "Epochs 0.000000 Cost 23.112118 Weight 3.011185 Bias -0.652841\n",
            "Epochs 0.000000 Cost 30.084023 Weight 3.243973 Bias -0.652841\n",
            "Epochs 0.000000 Cost 28.310978 Weight 3.478091 Bias -0.652841\n",
            "Epochs 0.000000 Cost 36.840210 Weight 3.754763 Bias -0.652841\n",
            "Epochs 0.000000 Cost 23.628742 Weight 3.984155 Bias -0.652841\n",
            "Epochs 0.000000 Cost 19.423120 Weight 4.199337 Bias -0.652841\n",
            "Epochs 0.000000 Cost 14.502481 Weight 4.391606 Bias -0.652841\n",
            "Epochs 0.000000 Cost 17.553453 Weight 4.610220 Bias -0.652841\n",
            "Epochs 0.000000 Cost 14.629143 Weight 4.816382 Bias -0.652841\n",
            "Epochs 0.000000 Cost 5.906703 Weight 4.951646 Bias -0.652841\n",
            "Epochs 0.000000 Cost 8.342075 Weight 5.117557 Bias -0.652841\n",
            "Epochs 0.000000 Cost 1.130418 Weight 5.180570 Bias -0.652841\n",
            "Epochs 0.000000 Cost 1.670533 Weight 5.259575 Bias -0.652841\n",
            "Epochs 0.000000 Cost 2.879825 Weight 5.366529 Bias -0.652841\n",
            "Epochs 0.000000 Cost 1.945215 Weight 5.457135 Bias -0.652841\n",
            "Epochs 0.000000 Cost 1.694430 Weight 5.544279 Bias -0.652841\n",
            "Epochs 0.000000 Cost 0.228363 Weight 5.577240 Bias -0.652841\n",
            "Epochs 0.000000 Cost 1.010434 Weight 5.648657 Bias -0.652841\n",
            "Epochs 0.000000 Cost 0.585212 Weight 5.704632 Bias -0.652841\n",
            "Epochs 40.000000 Cost 3.453001 Weight 5.983792 Bias -0.652841\n",
            "Epochs 40.000000 Cost 0.253167 Weight 5.984408 Bias -0.652841\n",
            "Epochs 40.000000 Cost 0.331640 Weight 5.985819 Bias -0.652841\n",
            "Epochs 40.000000 Cost 0.635232 Weight 5.982889 Bias -0.652841\n",
            "Epochs 40.000000 Cost 0.005887 Weight 5.982513 Bias -0.652841\n",
            "Epochs 40.000000 Cost 1.651922 Weight 5.990396 Bias -0.652841\n",
            "Epochs 40.000000 Cost 0.148562 Weight 5.987557 Bias -0.652841\n",
            "Epochs 40.000000 Cost 0.223647 Weight 5.991625 Bias -0.652841\n",
            "Epochs 40.000000 Cost 0.996028 Weight 5.981802 Bias -0.652841\n",
            "Epochs 40.000000 Cost 1.191717 Weight 5.993906 Bias -0.652841\n",
            "Epochs 40.000000 Cost 0.439107 Weight 6.002081 Bias -0.652841\n",
            "Epochs 40.000000 Cost 0.659457 Weight 6.013119 Bias -0.652841\n",
            "Epochs 40.000000 Cost 0.089456 Weight 6.008677 Bias -0.652841\n",
            "Epochs 40.000000 Cost 0.465685 Weight 5.997674 Bias -0.652841\n",
            "Epochs 40.000000 Cost 1.968394 Weight 6.022085 Bias -0.652841\n",
            "Epochs 40.000000 Cost 1.521919 Weight 6.045133 Bias -0.652841\n",
            "Epochs 40.000000 Cost 1.692903 Weight 6.071123 Bias -0.652841\n",
            "Epochs 40.000000 Cost 0.787837 Weight 6.090008 Bias -0.652841\n",
            "Epochs 40.000000 Cost 4.576326 Weight 6.138332 Bias -0.652841\n",
            "Epochs 40.000000 Cost 0.060067 Weight 6.144193 Bias -0.652841\n",
            "Epochs 40.000000 Cost 0.039024 Weight 6.139206 Bias -0.652841\n",
            "Epochs 40.000000 Cost 0.104284 Weight 6.147794 Bias -0.652841\n",
            "Epochs 40.000000 Cost 0.041481 Weight 6.142101 Bias -0.652841\n",
            "Epochs 40.000000 Cost 0.312112 Weight 6.125717 Bias -0.652841\n",
            "Epochs 40.000000 Cost 1.750419 Weight 6.166353 Bias -0.652841\n",
            "Epochs 40.000000 Cost 0.485366 Weight 6.143977 Bias -0.652841\n",
            "Epochs 40.000000 Cost 0.619158 Weight 6.117589 Bias -0.652841\n",
            "Epochs 40.000000 Cost 0.508263 Weight 6.142521 Bias -0.652841\n",
            "Epochs 40.000000 Cost 0.033511 Weight 6.149189 Bias -0.652841\n",
            "Epochs 40.000000 Cost 0.396737 Weight 6.173061 Bias -0.652841\n",
            "Epochs 40.000000 Cost 0.039401 Weight 6.180881 Bias -0.652841\n",
            "Epochs 40.000000 Cost 1.257501 Weight 6.135009 Bias -0.652841\n",
            "Epochs 40.000000 Cost 0.027365 Weight 6.127988 Bias -0.652841\n",
            "Epochs 40.000000 Cost 0.000922 Weight 6.126652 Bias -0.652841\n",
            "Epochs 40.000000 Cost 1.069343 Weight 6.173789 Bias -0.652841\n",
            "Epochs 40.000000 Cost 0.023520 Weight 6.181026 Bias -0.652841\n",
            "Epochs 40.000000 Cost 0.001263 Weight 6.182761 Bias -0.652841\n",
            "Epochs 40.000000 Cost 0.050048 Weight 6.171466 Bias -0.652841\n",
            "Epochs 40.000000 Cost 0.247067 Weight 6.197402 Bias -0.652841\n",
            "Epochs 40.000000 Cost 0.218226 Weight 6.222582 Bias -0.652841\n",
            "Epochs 40.000000 Cost 0.360366 Weight 6.189172 Bias -0.652841\n",
            "Epochs 40.000000 Cost 0.030034 Weight 6.199127 Bias -0.652841\n",
            "Epochs 40.000000 Cost 1.822966 Weight 6.119108 Bias -0.652841\n",
            "Epochs 40.000000 Cost 0.698649 Weight 6.068015 Bias -0.652841\n",
            "Epochs 40.000000 Cost 0.027141 Weight 6.057632 Bias -0.652841\n",
            "Epochs 40.000000 Cost 0.048529 Weight 6.043321 Bias -0.652841\n",
            "Epochs 40.000000 Cost 0.007621 Weight 6.037476 Bias -0.652841\n",
            "Epochs 40.000000 Cost 0.498856 Weight 5.988760 Bias -0.652841\n",
            "Epochs 40.000000 Cost 0.000022 Weight 5.989096 Bias -0.652841\n",
            "Epochs 40.000000 Cost 0.005255 Weight 5.983792 Bias -0.652841\n",
            "Epochs 80.000000 Cost 3.453001 Weight 5.983792 Bias -0.652841\n",
            "Epochs 80.000000 Cost 0.253167 Weight 5.984408 Bias -0.652841\n",
            "Epochs 80.000000 Cost 0.331640 Weight 5.985819 Bias -0.652841\n",
            "Epochs 80.000000 Cost 0.635232 Weight 5.982889 Bias -0.652841\n",
            "Epochs 80.000000 Cost 0.005887 Weight 5.982513 Bias -0.652841\n",
            "Epochs 80.000000 Cost 1.651922 Weight 5.990396 Bias -0.652841\n",
            "Epochs 80.000000 Cost 0.148562 Weight 5.987557 Bias -0.652841\n",
            "Epochs 80.000000 Cost 0.223647 Weight 5.991625 Bias -0.652841\n",
            "Epochs 80.000000 Cost 0.996028 Weight 5.981802 Bias -0.652841\n",
            "Epochs 80.000000 Cost 1.191717 Weight 5.993906 Bias -0.652841\n",
            "Epochs 80.000000 Cost 0.439107 Weight 6.002081 Bias -0.652841\n",
            "Epochs 80.000000 Cost 0.659457 Weight 6.013119 Bias -0.652841\n",
            "Epochs 80.000000 Cost 0.089456 Weight 6.008677 Bias -0.652841\n",
            "Epochs 80.000000 Cost 0.465685 Weight 5.997674 Bias -0.652841\n",
            "Epochs 80.000000 Cost 1.968394 Weight 6.022085 Bias -0.652841\n",
            "Epochs 80.000000 Cost 1.521919 Weight 6.045133 Bias -0.652841\n",
            "Epochs 80.000000 Cost 1.692903 Weight 6.071123 Bias -0.652841\n",
            "Epochs 80.000000 Cost 0.787837 Weight 6.090008 Bias -0.652841\n",
            "Epochs 80.000000 Cost 4.576326 Weight 6.138332 Bias -0.652841\n",
            "Epochs 80.000000 Cost 0.060067 Weight 6.144193 Bias -0.652841\n",
            "Epochs 80.000000 Cost 0.039024 Weight 6.139206 Bias -0.652841\n",
            "Epochs 80.000000 Cost 0.104284 Weight 6.147794 Bias -0.652841\n",
            "Epochs 80.000000 Cost 0.041481 Weight 6.142101 Bias -0.652841\n",
            "Epochs 80.000000 Cost 0.312112 Weight 6.125717 Bias -0.652841\n",
            "Epochs 80.000000 Cost 1.750419 Weight 6.166353 Bias -0.652841\n",
            "Epochs 80.000000 Cost 0.485366 Weight 6.143977 Bias -0.652841\n",
            "Epochs 80.000000 Cost 0.619158 Weight 6.117589 Bias -0.652841\n",
            "Epochs 80.000000 Cost 0.508263 Weight 6.142521 Bias -0.652841\n",
            "Epochs 80.000000 Cost 0.033511 Weight 6.149189 Bias -0.652841\n",
            "Epochs 80.000000 Cost 0.396737 Weight 6.173061 Bias -0.652841\n",
            "Epochs 80.000000 Cost 0.039401 Weight 6.180881 Bias -0.652841\n",
            "Epochs 80.000000 Cost 1.257501 Weight 6.135009 Bias -0.652841\n",
            "Epochs 80.000000 Cost 0.027365 Weight 6.127988 Bias -0.652841\n",
            "Epochs 80.000000 Cost 0.000922 Weight 6.126652 Bias -0.652841\n",
            "Epochs 80.000000 Cost 1.069343 Weight 6.173789 Bias -0.652841\n",
            "Epochs 80.000000 Cost 0.023520 Weight 6.181026 Bias -0.652841\n",
            "Epochs 80.000000 Cost 0.001263 Weight 6.182761 Bias -0.652841\n",
            "Epochs 80.000000 Cost 0.050048 Weight 6.171466 Bias -0.652841\n",
            "Epochs 80.000000 Cost 0.247067 Weight 6.197402 Bias -0.652841\n",
            "Epochs 80.000000 Cost 0.218226 Weight 6.222582 Bias -0.652841\n",
            "Epochs 80.000000 Cost 0.360366 Weight 6.189172 Bias -0.652841\n",
            "Epochs 80.000000 Cost 0.030034 Weight 6.199127 Bias -0.652841\n",
            "Epochs 80.000000 Cost 1.822966 Weight 6.119108 Bias -0.652841\n",
            "Epochs 80.000000 Cost 0.698649 Weight 6.068015 Bias -0.652841\n",
            "Epochs 80.000000 Cost 0.027141 Weight 6.057632 Bias -0.652841\n",
            "Epochs 80.000000 Cost 0.048529 Weight 6.043321 Bias -0.652841\n",
            "Epochs 80.000000 Cost 0.007621 Weight 6.037476 Bias -0.652841\n",
            "Epochs 80.000000 Cost 0.498856 Weight 5.988760 Bias -0.652841\n",
            "Epochs 80.000000 Cost 0.000022 Weight 5.989096 Bias -0.652841\n",
            "Epochs 80.000000 Cost 0.005255 Weight 5.983792 Bias -0.652841\n",
            "Epochs 120.000000 Cost 3.453001 Weight 5.983792 Bias -0.652841\n",
            "Epochs 120.000000 Cost 0.253167 Weight 5.984408 Bias -0.652841\n",
            "Epochs 120.000000 Cost 0.331640 Weight 5.985819 Bias -0.652841\n",
            "Epochs 120.000000 Cost 0.635232 Weight 5.982889 Bias -0.652841\n",
            "Epochs 120.000000 Cost 0.005887 Weight 5.982513 Bias -0.652841\n",
            "Epochs 120.000000 Cost 1.651922 Weight 5.990396 Bias -0.652841\n",
            "Epochs 120.000000 Cost 0.148562 Weight 5.987557 Bias -0.652841\n",
            "Epochs 120.000000 Cost 0.223647 Weight 5.991625 Bias -0.652841\n",
            "Epochs 120.000000 Cost 0.996028 Weight 5.981802 Bias -0.652841\n",
            "Epochs 120.000000 Cost 1.191717 Weight 5.993906 Bias -0.652841\n",
            "Epochs 120.000000 Cost 0.439107 Weight 6.002081 Bias -0.652841\n",
            "Epochs 120.000000 Cost 0.659457 Weight 6.013119 Bias -0.652841\n",
            "Epochs 120.000000 Cost 0.089456 Weight 6.008677 Bias -0.652841\n",
            "Epochs 120.000000 Cost 0.465685 Weight 5.997674 Bias -0.652841\n",
            "Epochs 120.000000 Cost 1.968394 Weight 6.022085 Bias -0.652841\n",
            "Epochs 120.000000 Cost 1.521919 Weight 6.045133 Bias -0.652841\n",
            "Epochs 120.000000 Cost 1.692903 Weight 6.071123 Bias -0.652841\n",
            "Epochs 120.000000 Cost 0.787837 Weight 6.090008 Bias -0.652841\n",
            "Epochs 120.000000 Cost 4.576326 Weight 6.138332 Bias -0.652841\n",
            "Epochs 120.000000 Cost 0.060067 Weight 6.144193 Bias -0.652841\n",
            "Epochs 120.000000 Cost 0.039024 Weight 6.139206 Bias -0.652841\n",
            "Epochs 120.000000 Cost 0.104284 Weight 6.147794 Bias -0.652841\n",
            "Epochs 120.000000 Cost 0.041481 Weight 6.142101 Bias -0.652841\n",
            "Epochs 120.000000 Cost 0.312112 Weight 6.125717 Bias -0.652841\n",
            "Epochs 120.000000 Cost 1.750419 Weight 6.166353 Bias -0.652841\n",
            "Epochs 120.000000 Cost 0.485366 Weight 6.143977 Bias -0.652841\n",
            "Epochs 120.000000 Cost 0.619158 Weight 6.117589 Bias -0.652841\n",
            "Epochs 120.000000 Cost 0.508263 Weight 6.142521 Bias -0.652841\n",
            "Epochs 120.000000 Cost 0.033511 Weight 6.149189 Bias -0.652841\n",
            "Epochs 120.000000 Cost 0.396737 Weight 6.173061 Bias -0.652841\n",
            "Epochs 120.000000 Cost 0.039401 Weight 6.180881 Bias -0.652841\n",
            "Epochs 120.000000 Cost 1.257501 Weight 6.135009 Bias -0.652841\n",
            "Epochs 120.000000 Cost 0.027365 Weight 6.127988 Bias -0.652841\n",
            "Epochs 120.000000 Cost 0.000922 Weight 6.126652 Bias -0.652841\n",
            "Epochs 120.000000 Cost 1.069343 Weight 6.173789 Bias -0.652841\n",
            "Epochs 120.000000 Cost 0.023520 Weight 6.181026 Bias -0.652841\n",
            "Epochs 120.000000 Cost 0.001263 Weight 6.182761 Bias -0.652841\n",
            "Epochs 120.000000 Cost 0.050048 Weight 6.171466 Bias -0.652841\n",
            "Epochs 120.000000 Cost 0.247067 Weight 6.197402 Bias -0.652841\n",
            "Epochs 120.000000 Cost 0.218226 Weight 6.222582 Bias -0.652841\n",
            "Epochs 120.000000 Cost 0.360366 Weight 6.189172 Bias -0.652841\n",
            "Epochs 120.000000 Cost 0.030034 Weight 6.199127 Bias -0.652841\n",
            "Epochs 120.000000 Cost 1.822966 Weight 6.119108 Bias -0.652841\n",
            "Epochs 120.000000 Cost 0.698649 Weight 6.068015 Bias -0.652841\n",
            "Epochs 120.000000 Cost 0.027141 Weight 6.057632 Bias -0.652841\n",
            "Epochs 120.000000 Cost 0.048529 Weight 6.043321 Bias -0.652841\n",
            "Epochs 120.000000 Cost 0.007621 Weight 6.037476 Bias -0.652841\n",
            "Epochs 120.000000 Cost 0.498856 Weight 5.988760 Bias -0.652841\n",
            "Epochs 120.000000 Cost 0.000022 Weight 5.989096 Bias -0.652841\n",
            "Epochs 120.000000 Cost 0.005255 Weight 5.983792 Bias -0.652841\n",
            "Epochs 160.000000 Cost 3.453001 Weight 5.983792 Bias -0.652841\n",
            "Epochs 160.000000 Cost 0.253167 Weight 5.984408 Bias -0.652841\n",
            "Epochs 160.000000 Cost 0.331640 Weight 5.985819 Bias -0.652841\n",
            "Epochs 160.000000 Cost 0.635232 Weight 5.982889 Bias -0.652841\n",
            "Epochs 160.000000 Cost 0.005887 Weight 5.982513 Bias -0.652841\n",
            "Epochs 160.000000 Cost 1.651922 Weight 5.990396 Bias -0.652841\n",
            "Epochs 160.000000 Cost 0.148562 Weight 5.987557 Bias -0.652841\n",
            "Epochs 160.000000 Cost 0.223647 Weight 5.991625 Bias -0.652841\n",
            "Epochs 160.000000 Cost 0.996028 Weight 5.981802 Bias -0.652841\n",
            "Epochs 160.000000 Cost 1.191717 Weight 5.993906 Bias -0.652841\n",
            "Epochs 160.000000 Cost 0.439107 Weight 6.002081 Bias -0.652841\n",
            "Epochs 160.000000 Cost 0.659457 Weight 6.013119 Bias -0.652841\n",
            "Epochs 160.000000 Cost 0.089456 Weight 6.008677 Bias -0.652841\n",
            "Epochs 160.000000 Cost 0.465685 Weight 5.997674 Bias -0.652841\n",
            "Epochs 160.000000 Cost 1.968394 Weight 6.022085 Bias -0.652841\n",
            "Epochs 160.000000 Cost 1.521919 Weight 6.045133 Bias -0.652841\n",
            "Epochs 160.000000 Cost 1.692903 Weight 6.071123 Bias -0.652841\n",
            "Epochs 160.000000 Cost 0.787837 Weight 6.090008 Bias -0.652841\n",
            "Epochs 160.000000 Cost 4.576326 Weight 6.138332 Bias -0.652841\n",
            "Epochs 160.000000 Cost 0.060067 Weight 6.144193 Bias -0.652841\n",
            "Epochs 160.000000 Cost 0.039024 Weight 6.139206 Bias -0.652841\n",
            "Epochs 160.000000 Cost 0.104284 Weight 6.147794 Bias -0.652841\n",
            "Epochs 160.000000 Cost 0.041481 Weight 6.142101 Bias -0.652841\n",
            "Epochs 160.000000 Cost 0.312112 Weight 6.125717 Bias -0.652841\n",
            "Epochs 160.000000 Cost 1.750419 Weight 6.166353 Bias -0.652841\n",
            "Epochs 160.000000 Cost 0.485366 Weight 6.143977 Bias -0.652841\n",
            "Epochs 160.000000 Cost 0.619158 Weight 6.117589 Bias -0.652841\n",
            "Epochs 160.000000 Cost 0.508263 Weight 6.142521 Bias -0.652841\n",
            "Epochs 160.000000 Cost 0.033511 Weight 6.149189 Bias -0.652841\n",
            "Epochs 160.000000 Cost 0.396737 Weight 6.173061 Bias -0.652841\n",
            "Epochs 160.000000 Cost 0.039401 Weight 6.180881 Bias -0.652841\n",
            "Epochs 160.000000 Cost 1.257501 Weight 6.135009 Bias -0.652841\n",
            "Epochs 160.000000 Cost 0.027365 Weight 6.127988 Bias -0.652841\n",
            "Epochs 160.000000 Cost 0.000922 Weight 6.126652 Bias -0.652841\n",
            "Epochs 160.000000 Cost 1.069343 Weight 6.173789 Bias -0.652841\n",
            "Epochs 160.000000 Cost 0.023520 Weight 6.181026 Bias -0.652841\n",
            "Epochs 160.000000 Cost 0.001263 Weight 6.182761 Bias -0.652841\n",
            "Epochs 160.000000 Cost 0.050048 Weight 6.171466 Bias -0.652841\n",
            "Epochs 160.000000 Cost 0.247067 Weight 6.197402 Bias -0.652841\n",
            "Epochs 160.000000 Cost 0.218226 Weight 6.222582 Bias -0.652841\n",
            "Epochs 160.000000 Cost 0.360366 Weight 6.189172 Bias -0.652841\n",
            "Epochs 160.000000 Cost 0.030034 Weight 6.199127 Bias -0.652841\n",
            "Epochs 160.000000 Cost 1.822966 Weight 6.119108 Bias -0.652841\n",
            "Epochs 160.000000 Cost 0.698649 Weight 6.068015 Bias -0.652841\n",
            "Epochs 160.000000 Cost 0.027141 Weight 6.057632 Bias -0.652841\n",
            "Epochs 160.000000 Cost 0.048529 Weight 6.043321 Bias -0.652841\n",
            "Epochs 160.000000 Cost 0.007621 Weight 6.037476 Bias -0.652841\n",
            "Epochs 160.000000 Cost 0.498856 Weight 5.988760 Bias -0.652841\n",
            "Epochs 160.000000 Cost 0.000022 Weight 5.989096 Bias -0.652841\n",
            "Epochs 160.000000 Cost 0.005255 Weight 5.983792 Bias -0.652841\n",
            "Epochs 200.000000 Cost 3.453001 Weight 5.983792 Bias -0.652841\n",
            "Epochs 200.000000 Cost 0.253167 Weight 5.984408 Bias -0.652841\n",
            "Epochs 200.000000 Cost 0.331640 Weight 5.985819 Bias -0.652841\n",
            "Epochs 200.000000 Cost 0.635232 Weight 5.982889 Bias -0.652841\n",
            "Epochs 200.000000 Cost 0.005887 Weight 5.982513 Bias -0.652841\n",
            "Epochs 200.000000 Cost 1.651922 Weight 5.990396 Bias -0.652841\n",
            "Epochs 200.000000 Cost 0.148562 Weight 5.987557 Bias -0.652841\n",
            "Epochs 200.000000 Cost 0.223647 Weight 5.991625 Bias -0.652841\n",
            "Epochs 200.000000 Cost 0.996028 Weight 5.981802 Bias -0.652841\n",
            "Epochs 200.000000 Cost 1.191717 Weight 5.993906 Bias -0.652841\n",
            "Epochs 200.000000 Cost 0.439107 Weight 6.002081 Bias -0.652841\n",
            "Epochs 200.000000 Cost 0.659457 Weight 6.013119 Bias -0.652841\n",
            "Epochs 200.000000 Cost 0.089456 Weight 6.008677 Bias -0.652841\n",
            "Epochs 200.000000 Cost 0.465685 Weight 5.997674 Bias -0.652841\n",
            "Epochs 200.000000 Cost 1.968394 Weight 6.022085 Bias -0.652841\n",
            "Epochs 200.000000 Cost 1.521919 Weight 6.045133 Bias -0.652841\n",
            "Epochs 200.000000 Cost 1.692903 Weight 6.071123 Bias -0.652841\n",
            "Epochs 200.000000 Cost 0.787837 Weight 6.090008 Bias -0.652841\n",
            "Epochs 200.000000 Cost 4.576326 Weight 6.138332 Bias -0.652841\n",
            "Epochs 200.000000 Cost 0.060067 Weight 6.144193 Bias -0.652841\n",
            "Epochs 200.000000 Cost 0.039024 Weight 6.139206 Bias -0.652841\n",
            "Epochs 200.000000 Cost 0.104284 Weight 6.147794 Bias -0.652841\n",
            "Epochs 200.000000 Cost 0.041481 Weight 6.142101 Bias -0.652841\n",
            "Epochs 200.000000 Cost 0.312112 Weight 6.125717 Bias -0.652841\n",
            "Epochs 200.000000 Cost 1.750419 Weight 6.166353 Bias -0.652841\n",
            "Epochs 200.000000 Cost 0.485366 Weight 6.143977 Bias -0.652841\n",
            "Epochs 200.000000 Cost 0.619158 Weight 6.117589 Bias -0.652841\n",
            "Epochs 200.000000 Cost 0.508263 Weight 6.142521 Bias -0.652841\n",
            "Epochs 200.000000 Cost 0.033511 Weight 6.149189 Bias -0.652841\n",
            "Epochs 200.000000 Cost 0.396737 Weight 6.173061 Bias -0.652841\n",
            "Epochs 200.000000 Cost 0.039401 Weight 6.180881 Bias -0.652841\n",
            "Epochs 200.000000 Cost 1.257501 Weight 6.135009 Bias -0.652841\n",
            "Epochs 200.000000 Cost 0.027365 Weight 6.127988 Bias -0.652841\n",
            "Epochs 200.000000 Cost 0.000922 Weight 6.126652 Bias -0.652841\n",
            "Epochs 200.000000 Cost 1.069343 Weight 6.173789 Bias -0.652841\n",
            "Epochs 200.000000 Cost 0.023520 Weight 6.181026 Bias -0.652841\n",
            "Epochs 200.000000 Cost 0.001263 Weight 6.182761 Bias -0.652841\n",
            "Epochs 200.000000 Cost 0.050048 Weight 6.171466 Bias -0.652841\n",
            "Epochs 200.000000 Cost 0.247067 Weight 6.197402 Bias -0.652841\n",
            "Epochs 200.000000 Cost 0.218226 Weight 6.222582 Bias -0.652841\n",
            "Epochs 200.000000 Cost 0.360366 Weight 6.189172 Bias -0.652841\n",
            "Epochs 200.000000 Cost 0.030034 Weight 6.199127 Bias -0.652841\n",
            "Epochs 200.000000 Cost 1.822966 Weight 6.119108 Bias -0.652841\n",
            "Epochs 200.000000 Cost 0.698649 Weight 6.068015 Bias -0.652841\n",
            "Epochs 200.000000 Cost 0.027141 Weight 6.057632 Bias -0.652841\n",
            "Epochs 200.000000 Cost 0.048529 Weight 6.043321 Bias -0.652841\n",
            "Epochs 200.000000 Cost 0.007621 Weight 6.037476 Bias -0.652841\n",
            "Epochs 200.000000 Cost 0.498856 Weight 5.988760 Bias -0.652841\n",
            "Epochs 200.000000 Cost 0.000022 Weight 5.989096 Bias -0.652841\n",
            "Epochs 200.000000 Cost 0.005255 Weight 5.983792 Bias -0.652841\n",
            "Epochs 240.000000 Cost 3.453001 Weight 5.983792 Bias -0.652841\n",
            "Epochs 240.000000 Cost 0.253167 Weight 5.984408 Bias -0.652841\n",
            "Epochs 240.000000 Cost 0.331640 Weight 5.985819 Bias -0.652841\n",
            "Epochs 240.000000 Cost 0.635232 Weight 5.982889 Bias -0.652841\n",
            "Epochs 240.000000 Cost 0.005887 Weight 5.982513 Bias -0.652841\n",
            "Epochs 240.000000 Cost 1.651922 Weight 5.990396 Bias -0.652841\n",
            "Epochs 240.000000 Cost 0.148562 Weight 5.987557 Bias -0.652841\n",
            "Epochs 240.000000 Cost 0.223647 Weight 5.991625 Bias -0.652841\n",
            "Epochs 240.000000 Cost 0.996028 Weight 5.981802 Bias -0.652841\n",
            "Epochs 240.000000 Cost 1.191717 Weight 5.993906 Bias -0.652841\n",
            "Epochs 240.000000 Cost 0.439107 Weight 6.002081 Bias -0.652841\n",
            "Epochs 240.000000 Cost 0.659457 Weight 6.013119 Bias -0.652841\n",
            "Epochs 240.000000 Cost 0.089456 Weight 6.008677 Bias -0.652841\n",
            "Epochs 240.000000 Cost 0.465685 Weight 5.997674 Bias -0.652841\n",
            "Epochs 240.000000 Cost 1.968394 Weight 6.022085 Bias -0.652841\n",
            "Epochs 240.000000 Cost 1.521919 Weight 6.045133 Bias -0.652841\n",
            "Epochs 240.000000 Cost 1.692903 Weight 6.071123 Bias -0.652841\n",
            "Epochs 240.000000 Cost 0.787837 Weight 6.090008 Bias -0.652841\n",
            "Epochs 240.000000 Cost 4.576326 Weight 6.138332 Bias -0.652841\n",
            "Epochs 240.000000 Cost 0.060067 Weight 6.144193 Bias -0.652841\n",
            "Epochs 240.000000 Cost 0.039024 Weight 6.139206 Bias -0.652841\n",
            "Epochs 240.000000 Cost 0.104284 Weight 6.147794 Bias -0.652841\n",
            "Epochs 240.000000 Cost 0.041481 Weight 6.142101 Bias -0.652841\n",
            "Epochs 240.000000 Cost 0.312112 Weight 6.125717 Bias -0.652841\n",
            "Epochs 240.000000 Cost 1.750419 Weight 6.166353 Bias -0.652841\n",
            "Epochs 240.000000 Cost 0.485366 Weight 6.143977 Bias -0.652841\n",
            "Epochs 240.000000 Cost 0.619158 Weight 6.117589 Bias -0.652841\n",
            "Epochs 240.000000 Cost 0.508263 Weight 6.142521 Bias -0.652841\n",
            "Epochs 240.000000 Cost 0.033511 Weight 6.149189 Bias -0.652841\n",
            "Epochs 240.000000 Cost 0.396737 Weight 6.173061 Bias -0.652841\n",
            "Epochs 240.000000 Cost 0.039401 Weight 6.180881 Bias -0.652841\n",
            "Epochs 240.000000 Cost 1.257501 Weight 6.135009 Bias -0.652841\n",
            "Epochs 240.000000 Cost 0.027365 Weight 6.127988 Bias -0.652841\n",
            "Epochs 240.000000 Cost 0.000922 Weight 6.126652 Bias -0.652841\n",
            "Epochs 240.000000 Cost 1.069343 Weight 6.173789 Bias -0.652841\n",
            "Epochs 240.000000 Cost 0.023520 Weight 6.181026 Bias -0.652841\n",
            "Epochs 240.000000 Cost 0.001263 Weight 6.182761 Bias -0.652841\n",
            "Epochs 240.000000 Cost 0.050048 Weight 6.171466 Bias -0.652841\n",
            "Epochs 240.000000 Cost 0.247067 Weight 6.197402 Bias -0.652841\n",
            "Epochs 240.000000 Cost 0.218226 Weight 6.222582 Bias -0.652841\n",
            "Epochs 240.000000 Cost 0.360366 Weight 6.189172 Bias -0.652841\n",
            "Epochs 240.000000 Cost 0.030034 Weight 6.199127 Bias -0.652841\n",
            "Epochs 240.000000 Cost 1.822966 Weight 6.119108 Bias -0.652841\n",
            "Epochs 240.000000 Cost 0.698649 Weight 6.068015 Bias -0.652841\n",
            "Epochs 240.000000 Cost 0.027141 Weight 6.057632 Bias -0.652841\n",
            "Epochs 240.000000 Cost 0.048529 Weight 6.043321 Bias -0.652841\n",
            "Epochs 240.000000 Cost 0.007621 Weight 6.037476 Bias -0.652841\n",
            "Epochs 240.000000 Cost 0.498856 Weight 5.988760 Bias -0.652841\n",
            "Epochs 240.000000 Cost 0.000022 Weight 5.989096 Bias -0.652841\n",
            "Epochs 240.000000 Cost 0.005255 Weight 5.983792 Bias -0.652841\n",
            "Epochs 280.000000 Cost 3.453001 Weight 5.983792 Bias -0.652841\n",
            "Epochs 280.000000 Cost 0.253167 Weight 5.984408 Bias -0.652841\n",
            "Epochs 280.000000 Cost 0.331640 Weight 5.985819 Bias -0.652841\n",
            "Epochs 280.000000 Cost 0.635232 Weight 5.982889 Bias -0.652841\n",
            "Epochs 280.000000 Cost 0.005887 Weight 5.982513 Bias -0.652841\n",
            "Epochs 280.000000 Cost 1.651922 Weight 5.990396 Bias -0.652841\n",
            "Epochs 280.000000 Cost 0.148562 Weight 5.987557 Bias -0.652841\n",
            "Epochs 280.000000 Cost 0.223647 Weight 5.991625 Bias -0.652841\n",
            "Epochs 280.000000 Cost 0.996028 Weight 5.981802 Bias -0.652841\n",
            "Epochs 280.000000 Cost 1.191717 Weight 5.993906 Bias -0.652841\n",
            "Epochs 280.000000 Cost 0.439107 Weight 6.002081 Bias -0.652841\n",
            "Epochs 280.000000 Cost 0.659457 Weight 6.013119 Bias -0.652841\n",
            "Epochs 280.000000 Cost 0.089456 Weight 6.008677 Bias -0.652841\n",
            "Epochs 280.000000 Cost 0.465685 Weight 5.997674 Bias -0.652841\n",
            "Epochs 280.000000 Cost 1.968394 Weight 6.022085 Bias -0.652841\n",
            "Epochs 280.000000 Cost 1.521919 Weight 6.045133 Bias -0.652841\n",
            "Epochs 280.000000 Cost 1.692903 Weight 6.071123 Bias -0.652841\n",
            "Epochs 280.000000 Cost 0.787837 Weight 6.090008 Bias -0.652841\n",
            "Epochs 280.000000 Cost 4.576326 Weight 6.138332 Bias -0.652841\n",
            "Epochs 280.000000 Cost 0.060067 Weight 6.144193 Bias -0.652841\n",
            "Epochs 280.000000 Cost 0.039024 Weight 6.139206 Bias -0.652841\n",
            "Epochs 280.000000 Cost 0.104284 Weight 6.147794 Bias -0.652841\n",
            "Epochs 280.000000 Cost 0.041481 Weight 6.142101 Bias -0.652841\n",
            "Epochs 280.000000 Cost 0.312112 Weight 6.125717 Bias -0.652841\n",
            "Epochs 280.000000 Cost 1.750419 Weight 6.166353 Bias -0.652841\n",
            "Epochs 280.000000 Cost 0.485366 Weight 6.143977 Bias -0.652841\n",
            "Epochs 280.000000 Cost 0.619158 Weight 6.117589 Bias -0.652841\n",
            "Epochs 280.000000 Cost 0.508263 Weight 6.142521 Bias -0.652841\n",
            "Epochs 280.000000 Cost 0.033511 Weight 6.149189 Bias -0.652841\n",
            "Epochs 280.000000 Cost 0.396737 Weight 6.173061 Bias -0.652841\n",
            "Epochs 280.000000 Cost 0.039401 Weight 6.180881 Bias -0.652841\n",
            "Epochs 280.000000 Cost 1.257501 Weight 6.135009 Bias -0.652841\n",
            "Epochs 280.000000 Cost 0.027365 Weight 6.127988 Bias -0.652841\n",
            "Epochs 280.000000 Cost 0.000922 Weight 6.126652 Bias -0.652841\n",
            "Epochs 280.000000 Cost 1.069343 Weight 6.173789 Bias -0.652841\n",
            "Epochs 280.000000 Cost 0.023520 Weight 6.181026 Bias -0.652841\n",
            "Epochs 280.000000 Cost 0.001263 Weight 6.182761 Bias -0.652841\n",
            "Epochs 280.000000 Cost 0.050048 Weight 6.171466 Bias -0.652841\n",
            "Epochs 280.000000 Cost 0.247067 Weight 6.197402 Bias -0.652841\n",
            "Epochs 280.000000 Cost 0.218226 Weight 6.222582 Bias -0.652841\n",
            "Epochs 280.000000 Cost 0.360366 Weight 6.189172 Bias -0.652841\n",
            "Epochs 280.000000 Cost 0.030034 Weight 6.199127 Bias -0.652841\n",
            "Epochs 280.000000 Cost 1.822966 Weight 6.119108 Bias -0.652841\n",
            "Epochs 280.000000 Cost 0.698649 Weight 6.068015 Bias -0.652841\n",
            "Epochs 280.000000 Cost 0.027141 Weight 6.057632 Bias -0.652841\n",
            "Epochs 280.000000 Cost 0.048529 Weight 6.043321 Bias -0.652841\n",
            "Epochs 280.000000 Cost 0.007621 Weight 6.037476 Bias -0.652841\n",
            "Epochs 280.000000 Cost 0.498856 Weight 5.988760 Bias -0.652841\n",
            "Epochs 280.000000 Cost 0.000022 Weight 5.989096 Bias -0.652841\n",
            "Epochs 280.000000 Cost 0.005255 Weight 5.983792 Bias -0.652841\n"
          ]
        },
        {
          "output_type": "display_data",
          "data": {
            "text/plain": [
              "<Figure size 432x288 with 1 Axes>"
            ],
            "image/png": "[encoded data removed]"
          },
          "metadata": {
            "needs_background": "light"
          }
        }
      ]
    },
    {
      "cell_type": "code",
      "source": [
        "pip install tensorflow==1.15.5"
      ],
      "metadata": {
        "colab": {
          "base_uri": "https://localhost:8080/"
        },
        "id": "Dvmp-nRBoHuv",
        "outputId": "0ba10057-3116-496d-f2e6-fe47009d8e76"
      },
      "execution_count": 12,
      "outputs": [
        {
          "output_type": "stream",
          "name": "stdout",
          "text": [
            "Looking in indexes: https://pypi.org/simple, https://us-python.pkg.dev/colab-wheels/public/simple/\n",
            "Requirement already satisfied: tensorflow==1.15.5 in /usr/local/lib/python3.7/dist-packages (1.15.5)\n",
            "Requirement already satisfied: absl-py>=0.7.0 in /usr/local/lib/python3.7/dist-packages (from tensorflow==1.15.5) (1.2.0)\n",
            "Requirement already satisfied: tensorflow-estimator==1.15.1 in /usr/local/lib/python3.7/dist-packages (from tensorflow==1.15.5) (1.15.1)\n",
            "Requirement already satisfied: wrapt>=1.11.1 in /usr/local/lib/python3.7/dist-packages (from tensorflow==1.15.5) (1.14.1)\n",
            "Requirement already satisfied: gast==0.2.2 in /usr/local/lib/python3.7/dist-packages (from tensorflow==1.15.5) (0.2.2)\n",
            "Requirement already satisfied: google-pasta>=0.1.6 in /usr/local/lib/python3.7/dist-packages (from tensorflow==1.15.5) (0.2.0)\n",
            "Requirement already satisfied: numpy<1.19.0,>=1.16.0 in /usr/local/lib/python3.7/dist-packages (from tensorflow==1.15.5) (1.18.5)\n",
            "Requirement already satisfied: opt-einsum>=2.3.2 in /usr/local/lib/python3.7/dist-packages (from tensorflow==1.15.5) (3.3.0)\n",
            "Requirement already satisfied: grpcio>=1.8.6 in /usr/local/lib/python3.7/dist-packages (from tensorflow==1.15.5) (1.48.1)\n",
            "Requirement already satisfied: astor>=0.6.0 in /usr/local/lib/python3.7/dist-packages (from tensorflow==1.15.5) (0.8.1)\n",
            "Requirement already satisfied: tensorboard<1.16.0,>=1.15.0 in /usr/local/lib/python3.7/dist-packages (from tensorflow==1.15.5) (1.15.0)\n",
            "Requirement already satisfied: protobuf>=3.6.1 in /usr/local/lib/python3.7/dist-packages (from tensorflow==1.15.5) (3.17.3)\n",
            "Requirement already satisfied: termcolor>=1.1.0 in /usr/local/lib/python3.7/dist-packages (from tensorflow==1.15.5) (1.1.0)\n",
            "Requirement already satisfied: keras-preprocessing>=1.0.5 in /usr/local/lib/python3.7/dist-packages (from tensorflow==1.15.5) (1.1.2)\n",
            "Requirement already satisfied: six>=1.10.0 in /usr/local/lib/python3.7/dist-packages (from tensorflow==1.15.5) (1.15.0)\n",
            "Requirement already satisfied: keras-applications>=1.0.8 in /usr/local/lib/python3.7/dist-packages (from tensorflow==1.15.5) (1.0.8)\n",
            "Requirement already satisfied: h5py<=2.10.0 in /usr/local/lib/python3.7/dist-packages (from tensorflow==1.15.5) (2.10.0)\n",
            "Requirement already satisfied: wheel>=0.26 in /usr/local/lib/python3.7/dist-packages (from tensorflow==1.15.5) (0.37.1)\n",
            "Requirement already satisfied: markdown>=2.6.8 in /usr/local/lib/python3.7/dist-packages (from tensorboard<1.16.0,>=1.15.0->tensorflow==1.15.5) (3.4.1)\n",
            "Requirement already satisfied: setuptools>=41.0.0 in /usr/local/lib/python3.7/dist-packages (from tensorboard<1.16.0,>=1.15.0->tensorflow==1.15.5) (57.4.0)\n",
            "Requirement already satisfied: werkzeug>=0.11.15 in /usr/local/lib/python3.7/dist-packages (from tensorboard<1.16.0,>=1.15.0->tensorflow==1.15.5) (1.0.1)\n",
            "Requirement already satisfied: importlib-metadata>=4.4 in /usr/local/lib/python3.7/dist-packages (from markdown>=2.6.8->tensorboard<1.16.0,>=1.15.0->tensorflow==1.15.5) (4.12.0)\n",
            "Requirement already satisfied: zipp>=0.5 in /usr/local/lib/python3.7/dist-packages (from importlib-metadata>=4.4->markdown>=2.6.8->tensorboard<1.16.0,>=1.15.0->tensorflow==1.15.5) (3.8.1)\n",
            "Requirement already satisfied: typing-extensions>=3.6.4 in /usr/local/lib/python3.7/dist-packages (from importlib-metadata>=4.4->markdown>=2.6.8->tensorboard<1.16.0,>=1.15.0->tensorflow==1.15.5) (4.1.1)\n"
          ]
        }
      ]
    },
    {
      "cell_type": "code",
      "source": [
        "!wget https://bin.equinox.io/c/bNyj1mQVY4c/ngrok-v3-stable-linux-amd64.zip"
      ],
      "metadata": {
        "colab": {
          "base_uri": "https://localhost:8080/"
        },
        "id": "jzdbDFqCpgFN",
        "outputId": "20e237d9-5675-4689-c03c-289dc968dcef"
      },
      "execution_count": 17,
      "outputs": [
        {
          "output_type": "stream",
          "name": "stdout",
          "text": [
            "--2022-10-04 11:06:45--  https://bin.equinox.io/c/bNyj1mQVY4c/ngrok-v3-stable-linux-amd64.zip\n",
            "Resolving bin.equinox.io (bin.equinox.io)... 52.202.168.65, 18.205.222.128, 54.161.241.46, ...\n",
            "Connecting to bin.equinox.io (bin.equinox.io)|52.202.168.65|:443... connected.\n",
            "HTTP request sent, awaiting response... 200 OK\n",
            "Length: 8454063 (8.1M) [application/octet-stream]\n",
            "Saving to: ‘ngrok-v3-stable-linux-amd64.zip’\n",
            "\n",
            "\r          ngrok-v3-   0%[                    ]       0  --.-KB/s               \rngrok-v3-stable-lin 100%[===================>]   8.06M  --.-KB/s    in 0.1s    \n",
            "\n",
            "2022-10-04 11:06:45 (70.9 MB/s) - ‘ngrok-v3-stable-linux-amd64.zip’ saved [8454063/8454063]\n",
            "\n"
          ]
        }
      ]
    },
    {
      "cell_type": "code",
      "source": [
        "!unzip ngrok-v3-stable-linux-amd64.zip"
      ],
      "metadata": {
        "colab": {
          "base_uri": "https://localhost:8080/"
        },
        "id": "Vpt_eUK1pkWZ",
        "outputId": "6237591b-e539-49bd-8c7a-785eb04d2f33"
      },
      "execution_count": 28,
      "outputs": [
        {
          "output_type": "stream",
          "name": "stdout",
          "text": [
            "Archive:  ngrok-v3-stable-linux-amd64.zip\n",
            "  inflating: ngrok                   \n"
          ]
        }
      ]
    },
    {
      "cell_type": "code",
      "source": [
        "LOG_DIR = './log'\n",
        "get_ipython().system_raw(\n",
        "    'tensorboard --logdir {} --host 0.0.0.0 --port 6006 &'\n",
        "    .format(LOG_DIR)\n",
        ")"
      ],
      "metadata": {
        "id": "1YO86vXDpsAA"
      },
      "execution_count": 29,
      "outputs": []
    },
    {
      "cell_type": "code",
      "source": [
        "get_ipython().system_raw('./ngrok http 6006 &')"
      ],
      "metadata": {
        "id": "hhMzrMzkr1bP"
      },
      "execution_count": 30,
      "outputs": []
    },
    {
      "cell_type": "code",
      "source": [
        "! curl -s http://localhost:4040/api/tunnels | python3 -c \\\n",
        "    \"import sys, json; print(json.load(sys.stdin)['tunnels'][0]['public_url'])\""
      ],
      "metadata": {
        "colab": {
          "base_uri": "https://localhost:8080/"
        },
        "id": "j_kxdJYwr2vS",
        "outputId": "78ddb4dd-a5dc-49c9-df53-32fecba2fe95"
      },
      "execution_count": 31,
      "outputs": [
        {
          "output_type": "stream",
          "name": "stdout",
          "text": [
            "https://5c6a-34-86-24-192.ngrok.io\n"
          ]
        }
      ]
    },
    {
      "cell_type": "code",
      "source": [
        "pip install tensorflow==1.15.5"
      ],
      "metadata": {
        "colab": {
          "base_uri": "https://localhost:8080/"
        },
        "id": "MMRkbxQ9tdrk",
        "outputId": "c8261e44-43ac-4213-ce60-116fc45cebff"
      },
      "execution_count": 35,
      "outputs": [
        {
          "output_type": "stream",
          "name": "stdout",
          "text": [
            "Looking in indexes: https://pypi.org/simple, https://us-python.pkg.dev/colab-wheels/public/simple/\n",
            "Requirement already satisfied: tensorflow==1.15.5 in /usr/local/lib/python3.7/dist-packages (1.15.5)\n",
            "Requirement already satisfied: absl-py>=0.7.0 in /usr/local/lib/python3.7/dist-packages (from tensorflow==1.15.5) (1.2.0)\n",
            "Requirement already satisfied: termcolor>=1.1.0 in /usr/local/lib/python3.7/dist-packages (from tensorflow==1.15.5) (1.1.0)\n",
            "Requirement already satisfied: wrapt>=1.11.1 in /usr/local/lib/python3.7/dist-packages (from tensorflow==1.15.5) (1.14.1)\n",
            "Requirement already satisfied: six>=1.10.0 in /usr/local/lib/python3.7/dist-packages (from tensorflow==1.15.5) (1.15.0)\n",
            "Requirement already satisfied: gast==0.2.2 in /usr/local/lib/python3.7/dist-packages (from tensorflow==1.15.5) (0.2.2)\n",
            "Requirement already satisfied: tensorflow-estimator==1.15.1 in /usr/local/lib/python3.7/dist-packages (from tensorflow==1.15.5) (1.15.1)\n",
            "Requirement already satisfied: keras-applications>=1.0.8 in /usr/local/lib/python3.7/dist-packages (from tensorflow==1.15.5) (1.0.8)\n",
            "Requirement already satisfied: google-pasta>=0.1.6 in /usr/local/lib/python3.7/dist-packages (from tensorflow==1.15.5) (0.2.0)\n",
            "Requirement already satisfied: grpcio>=1.8.6 in /usr/local/lib/python3.7/dist-packages (from tensorflow==1.15.5) (1.48.1)\n",
            "Requirement already satisfied: protobuf>=3.6.1 in /usr/local/lib/python3.7/dist-packages (from tensorflow==1.15.5) (3.17.3)\n",
            "Requirement already satisfied: keras-preprocessing>=1.0.5 in /usr/local/lib/python3.7/dist-packages (from tensorflow==1.15.5) (1.1.2)\n",
            "Requirement already satisfied: numpy<1.19.0,>=1.16.0 in /usr/local/lib/python3.7/dist-packages (from tensorflow==1.15.5) (1.18.5)\n",
            "Requirement already satisfied: wheel>=0.26 in /usr/local/lib/python3.7/dist-packages (from tensorflow==1.15.5) (0.37.1)\n",
            "Requirement already satisfied: tensorboard<1.16.0,>=1.15.0 in /usr/local/lib/python3.7/dist-packages (from tensorflow==1.15.5) (1.15.0)\n",
            "Requirement already satisfied: opt-einsum>=2.3.2 in /usr/local/lib/python3.7/dist-packages (from tensorflow==1.15.5) (3.3.0)\n",
            "Requirement already satisfied: astor>=0.6.0 in /usr/local/lib/python3.7/dist-packages (from tensorflow==1.15.5) (0.8.1)\n",
            "Requirement already satisfied: h5py<=2.10.0 in /usr/local/lib/python3.7/dist-packages (from tensorflow==1.15.5) (2.10.0)\n",
            "Requirement already satisfied: setuptools>=41.0.0 in /usr/local/lib/python3.7/dist-packages (from tensorboard<1.16.0,>=1.15.0->tensorflow==1.15.5) (57.4.0)\n",
            "Requirement already satisfied: werkzeug>=0.11.15 in /usr/local/lib/python3.7/dist-packages (from tensorboard<1.16.0,>=1.15.0->tensorflow==1.15.5) (1.0.1)\n",
            "Requirement already satisfied: markdown>=2.6.8 in /usr/local/lib/python3.7/dist-packages (from tensorboard<1.16.0,>=1.15.0->tensorflow==1.15.5) (3.4.1)\n",
            "Requirement already satisfied: importlib-metadata>=4.4 in /usr/local/lib/python3.7/dist-packages (from markdown>=2.6.8->tensorboard<1.16.0,>=1.15.0->tensorflow==1.15.5) (4.12.0)\n",
            "Requirement already satisfied: typing-extensions>=3.6.4 in /usr/local/lib/python3.7/dist-packages (from importlib-metadata>=4.4->markdown>=2.6.8->tensorboard<1.16.0,>=1.15.0->tensorflow==1.15.5) (4.1.1)\n",
            "Requirement already satisfied: zipp>=0.5 in /usr/local/lib/python3.7/dist-packages (from importlib-metadata>=4.4->markdown>=2.6.8->tensorboard<1.16.0,>=1.15.0->tensorflow==1.15.5) (3.8.1)\n"
          ]
        }
      ]
    },
    {
      "cell_type": "code",
      "source": [
        "import cv2\n",
        "import matplotlib.pyplot as plt\n",
        "import numpy as np\n",
        "import tensorflow as tf"
      ],
      "metadata": {
        "id": "33piId4Er6L9"
      },
      "execution_count": 36,
      "outputs": []
    },
    {
      "cell_type": "code",
      "source": [
        "from tensorflow.examples.tutorials.mnist import input_data\n",
        "mnist_data = input_data.read_data_sets(\"./data\", one_hot = True)"
      ],
      "metadata": {
        "colab": {
          "base_uri": "https://localhost:8080/"
        },
        "id": "GfVeQSWctHae",
        "outputId": "5680534e-96e8-4fea-aad8-bc5282160567"
      },
      "execution_count": 37,
      "outputs": [
        {
          "output_type": "stream",
          "name": "stdout",
          "text": [
            "Extracting ./data/train-images-idx3-ubyte.gz\n",
            "Extracting ./data/train-labels-idx1-ubyte.gz\n",
            "Extracting ./data/t10k-images-idx3-ubyte.gz\n",
            "Extracting ./data/t10k-labels-idx1-ubyte.gz\n"
          ]
        }
      ]
    },
    {
      "cell_type": "code",
      "source": [
        "num_training = mnist_data.train.num_examples\n",
        "num_testing = mnist_data.test.num_examples\n",
        "num_validation = mnist_data.validation.num_examples\n",
        "print(\"MNIST Datasize: Training samples: {0}, Testing samples: {1}\")"
      ],
      "metadata": {
        "colab": {
          "base_uri": "https://localhost:8080/"
        },
        "id": "RP_h0GmVtLbS",
        "outputId": "766e9cc2-873a-4f72-e256-f3b5fe9f5cd6"
      },
      "execution_count": 38,
      "outputs": [
        {
          "output_type": "stream",
          "name": "stdout",
          "text": [
            "MNIST Datasize: Training samples: {0}, Testing samples: {1}\n"
          ]
        }
      ]
    },
    {
      "cell_type": "code",
      "source": [
        "n_input = 784\n",
        "n_hidden_1 = 512\n",
        "n_hidden_2 = 256\n",
        "n_hidden_3 = 128\n",
        "n_output = 10"
      ],
      "metadata": {
        "id": "ny_iqOWQtppl"
      },
      "execution_count": 39,
      "outputs": []
    },
    {
      "cell_type": "code",
      "source": [
        "learning_rate = 1e-4\n",
        "epochs = 3000\n",
        "batch_size = 128\n",
        "keep_prob = tf.placeholder(tf.float32)"
      ],
      "metadata": {
        "id": "2n4VfDR7tvyR"
      },
      "execution_count": 40,
      "outputs": []
    },
    {
      "cell_type": "code",
      "source": [
        "X = tf.placeholder(tf.float32, [None, n_input])\n",
        "Y = tf.placeholder(tf.float32, [None, n_output])"
      ],
      "metadata": {
        "id": "NfpSkwNBtwNR"
      },
      "execution_count": 41,
      "outputs": []
    },
    {
      "cell_type": "code",
      "source": [
        "nn_weight = {\"W1\": tf.Variable(tf.truncated_normal([n_input, n_hidden_1], stddev = 0.1)),\n",
        "             \"W2\": tf.Variable(tf.truncated_normal([n_hidden_1, n_hidden_2], stddev = 0.1)),\n",
        "             \"W3\": tf.Variable(tf.truncated_normal([n_hidden_2, n_hidden_3], stddev = 0.1)),\n",
        "             \"Wout\":tf.Variable(tf.truncated_normal([n_hidden_3, n_output]))\n",
        "}\n",
        "\n",
        "nn_bias = { \"B1\": tf.Variable(tf.truncated_normal([n_hidden_1])),\n",
        "            \"B2\": tf.Variable(tf.truncated_normal([n_hidden_2])),\n",
        "            \"B3\": tf.Variable(tf.truncated_normal([n_hidden_3])),\n",
        "            \"B4\": tf.Variable(tf.truncated_normal([n_output])),  \n",
        "           }"
      ],
      "metadata": {
        "id": "AmUJiVtVtx3N"
      },
      "execution_count": 42,
      "outputs": []
    },
    {
      "cell_type": "code",
      "source": [
        "nn_layer_1 = tf.add(tf.matmul(X, nn_weight[\"W1\"]),nn_bias[\"B1\"])\n",
        "nn_layer_2 = tf.add(tf.matmul(nn_layer_1, nn_weight[\"W2\"]),nn_bias[\"B2\"])\n",
        "nn_layer_3 = tf.add(tf.matmul(nn_layer_2, nn_weight[\"W3\"]),nn_bias[\"B3\"])\n",
        "layer_drop = tf.nn.dropout(nn_layer_3, keep_prob)\n",
        "output_layer = tf.add(tf.matmul(layer_drop, nn_weight[\"Wout\"]), nn_bias[\"B4\"])"
      ],
      "metadata": {
        "colab": {
          "base_uri": "https://localhost:8080/"
        },
        "id": "5p9dht-Btzms",
        "outputId": "26236060-5faa-458b-839c-7e9819853ae7"
      },
      "execution_count": 43,
      "outputs": [
        {
          "output_type": "stream",
          "name": "stderr",
          "text": [
            "WARNING:tensorflow:From <ipython-input-43-7479a4162d01>:4: calling dropout (from tensorflow.python.ops.nn_ops) with keep_prob is deprecated and will be removed in a future version.\n",
            "Instructions for updating:\n",
            "Please use `rate` instead of `keep_prob`. Rate should be set to `rate = 1 - keep_prob`.\n"
          ]
        }
      ]
    },
    {
      "cell_type": "code",
      "source": [
        "computed_loss = tf.reduce_mean(tf.nn.softmax_cross_entropy_with_logits_v2(logits = output_layer, labels = Y))\n",
        "\n",
        "optimizer = tf.train.GradientDescentOptimizer(learning_rate = learning_rate).minimize(computed_loss)\n",
        "\n",
        "prediction_out = tf.equal(tf.argmax(output_layer,1), tf.argmax(Y,1))\n",
        "\n",
        "nn_accuracy = tf.reduce_mean(tf.cast(prediction_out, tf.float32))\n",
        "\n",
        "init = tf.global_variables_initializer()\n",
        "\n",
        "saver = tf.train.Saver()"
      ],
      "metadata": {
        "id": "_SQeonJpt9-n"
      },
      "execution_count": 44,
      "outputs": []
    },
    {
      "cell_type": "code",
      "source": [
        "with tf.Session() as sess:\n",
        "  sess.run(init)\n",
        "  for i in range(epochs):\n",
        "\n",
        "    mini_batch_x, mini_batch_y = mnist_data.train.next_batch(batch_size)\n",
        "    mini_batch_val_x, mini_batch_val_y = mnist_data.validation.next_batch(batch_size)\n",
        "\n",
        "    sess.run(optimizer, feed_dict = {X : mini_batch_x, Y : mini_batch_y, keep_prob:1})\n",
        "    \n",
        "    if i%100 == 0:\n",
        "      mini_batch_loss, mini_batch_accuracy = sess.run([computed_loss, nn_accuracy], feed_dict = {X: mini_batch_x, Y: mini_batch_y, keep_prob:1})\n",
        "\n",
        "      mini_batch_val_loss, mini_batch_val_accuracy = sess.run([computed_loss, nn_accuracy], feed_dict = {X: mini_batch_x, Y: mini_batch_y, keep_prob:1})\n",
        "\n",
        "      print(\"Iterations : {0} , Train_loss = {1}, Train_Accuracy {2}, Val_loss {3}, Val_accuracy {4}\".format(i, mini_batch_loss, mini_batch_accuracy, mini_batch_val_loss, mini_batch_val_accuracy))\n",
        "\n",
        "  print(\"Optimization Finished\")\n",
        "  test_accuracy = sess.run(nn_accuracy, feed_dict = {X:mnist_data.test.images, Y:mnist_data.test.labels, keep_prob:1.0})\n",
        "  print(\"Testing accuracy is {0}\".format(test_accuracy))\n",
        "\n",
        "  saver_path = saver.save(sess, \"./model/my_model.ckpt\")"
      ],
      "metadata": {
        "colab": {
          "base_uri": "https://localhost:8080/"
        },
        "id": "PspSO69juBHX",
        "outputId": "f06d2bbc-ca2b-4a4c-b748-613f1fb3881e"
      },
      "execution_count": 45,
      "outputs": [
        {
          "output_type": "stream",
          "name": "stdout",
          "text": [
            "Iterations : 0 , Train_loss = 62.75988006591797, Train_Accuracy 0.09375, Val_loss 62.75988006591797, Val_accuracy 0.09375\n",
            "Iterations : 100 , Train_loss = 7.630047798156738, Train_Accuracy 0.3984375, Val_loss 7.630047798156738, Val_accuracy 0.3984375\n",
            "Iterations : 200 , Train_loss = 5.156005859375, Train_Accuracy 0.5390625, Val_loss 5.156005859375, Val_accuracy 0.5390625\n",
            "Iterations : 300 , Train_loss = 4.031378269195557, Train_Accuracy 0.640625, Val_loss 4.031378269195557, Val_accuracy 0.640625\n",
            "Iterations : 400 , Train_loss = 2.320164203643799, Train_Accuracy 0.7265625, Val_loss 2.320164203643799, Val_accuracy 0.7265625\n",
            "Iterations : 500 , Train_loss = 3.4700002670288086, Train_Accuracy 0.703125, Val_loss 3.4700002670288086, Val_accuracy 0.703125\n",
            "Iterations : 600 , Train_loss = 2.6428496837615967, Train_Accuracy 0.7578125, Val_loss 2.6428496837615967, Val_accuracy 0.7578125\n",
            "Iterations : 700 , Train_loss = 1.9757579565048218, Train_Accuracy 0.7734375, Val_loss 1.9757579565048218, Val_accuracy 0.7734375\n",
            "Iterations : 800 , Train_loss = 1.7412383556365967, Train_Accuracy 0.828125, Val_loss 1.7412383556365967, Val_accuracy 0.828125\n",
            "Iterations : 900 , Train_loss = 1.7462730407714844, Train_Accuracy 0.78125, Val_loss 1.7462730407714844, Val_accuracy 0.78125\n",
            "Iterations : 1000 , Train_loss = 1.035443902015686, Train_Accuracy 0.8671875, Val_loss 1.035443902015686, Val_accuracy 0.8671875\n",
            "Iterations : 1100 , Train_loss = 2.3231797218322754, Train_Accuracy 0.7890625, Val_loss 2.3231797218322754, Val_accuracy 0.7890625\n",
            "Iterations : 1200 , Train_loss = 1.9099071025848389, Train_Accuracy 0.78125, Val_loss 1.9099071025848389, Val_accuracy 0.78125\n",
            "Iterations : 1300 , Train_loss = 1.9094319343566895, Train_Accuracy 0.796875, Val_loss 1.9094319343566895, Val_accuracy 0.796875\n",
            "Iterations : 1400 , Train_loss = 1.3296639919281006, Train_Accuracy 0.7890625, Val_loss 1.3296639919281006, Val_accuracy 0.7890625\n",
            "Iterations : 1500 , Train_loss = 1.2893362045288086, Train_Accuracy 0.8359375, Val_loss 1.2893362045288086, Val_accuracy 0.8359375\n",
            "Iterations : 1600 , Train_loss = 2.1789724826812744, Train_Accuracy 0.7734375, Val_loss 2.1789724826812744, Val_accuracy 0.7734375\n",
            "Iterations : 1700 , Train_loss = 1.5353842973709106, Train_Accuracy 0.8125, Val_loss 1.5353842973709106, Val_accuracy 0.8125\n",
            "Iterations : 1800 , Train_loss = 1.7664786577224731, Train_Accuracy 0.8125, Val_loss 1.7664786577224731, Val_accuracy 0.8125\n",
            "Iterations : 1900 , Train_loss = 2.027729034423828, Train_Accuracy 0.765625, Val_loss 2.027729034423828, Val_accuracy 0.765625\n",
            "Iterations : 2000 , Train_loss = 1.0812937021255493, Train_Accuracy 0.8671875, Val_loss 1.0812937021255493, Val_accuracy 0.8671875\n",
            "Iterations : 2100 , Train_loss = 1.1615461111068726, Train_Accuracy 0.8125, Val_loss 1.1615461111068726, Val_accuracy 0.8125\n",
            "Iterations : 2200 , Train_loss = 1.7286365032196045, Train_Accuracy 0.859375, Val_loss 1.7286365032196045, Val_accuracy 0.859375\n",
            "Iterations : 2300 , Train_loss = 1.654350996017456, Train_Accuracy 0.8203125, Val_loss 1.654350996017456, Val_accuracy 0.8203125\n",
            "Iterations : 2400 , Train_loss = 2.1978437900543213, Train_Accuracy 0.796875, Val_loss 2.1978437900543213, Val_accuracy 0.796875\n",
            "Iterations : 2500 , Train_loss = 1.3056917190551758, Train_Accuracy 0.859375, Val_loss 1.3056917190551758, Val_accuracy 0.859375\n",
            "Iterations : 2600 , Train_loss = 0.8272609710693359, Train_Accuracy 0.828125, Val_loss 0.8272609710693359, Val_accuracy 0.828125\n",
            "Iterations : 2700 , Train_loss = 1.1851369142532349, Train_Accuracy 0.859375, Val_loss 1.1851369142532349, Val_accuracy 0.859375\n",
            "Iterations : 2800 , Train_loss = 1.535198450088501, Train_Accuracy 0.8203125, Val_loss 1.535198450088501, Val_accuracy 0.8203125\n",
            "Iterations : 2900 , Train_loss = 0.9287463426589966, Train_Accuracy 0.8515625, Val_loss 0.9287463426589966, Val_accuracy 0.8515625\n",
            "Optimization Finished\n",
            "Testing accuracy is 0.8485000133514404\n"
          ]
        }
      ]
    },
    {
      "cell_type": "code",
      "source": [
        "img = cv2.imread(\"7.jpg\")\n",
        "gray_image = cv2.cvtColor(img, cv2.COLOR_BGR2GRAY)\n",
        "\n",
        "rescaled_image = cv2.resize(gray_image, (28,28))\n",
        "plt.imshow(rescaled_image, cmap = 'gray')\n",
        "plt.show()\n",
        "rescaled_image.shape\n",
        "#test_image = rescaled_image.flatten()\n",
        "\n",
        "dum = rescaled_image.reshape(1,-1)/255\n",
        "dum.shape\n",
        "with tf.Session() as sess:\n",
        "  saver.restore(sess, \"./model/my_model.ckpt\")\n",
        "  Z = output_layer.eval(feed_dict = {X:dum, keep_prob:1.0})\n",
        "  y_pred = np.argmax(Z, axis = 1)\n",
        "  print(\"Prediction for test image is {0}\".format(y_pred))"
      ],
      "metadata": {
        "colab": {
          "base_uri": "https://localhost:8080/",
          "height": 282
        },
        "id": "RITrqelAuHgB",
        "outputId": "80966a7b-ab43-4d7a-d3b9-18a72e6f73c7"
      },
      "execution_count": 48,
      "outputs": [
        {
          "output_type": "display_data",
          "data": {
            "text/plain": [
              "<Figure size 432x288 with 1 Axes>"
            ],
            "image/png": "[encoded data removed]"
          },
          "metadata": {
            "needs_background": "light"
          }
        },
        {
          "output_type": "stream",
          "name": "stdout",
          "text": [
            "Prediction for test image is [0]\n"
          ]
        }
      ]
    },
    {
      "cell_type": "code",
      "source": [],
      "metadata": {
        "id": "ZlpTFN_6uSxF"
      },
      "execution_count": null,
      "outputs": []
    }
  ]
}