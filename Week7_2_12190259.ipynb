{
  "nbformat": 4,
  "nbformat_minor": 0,
  "metadata": {
    "colab": {
      "provenance": [],
      "collapsed_sections": []
    },
    "kernelspec": {
      "name": "python3",
      "display_name": "Python 3"
    },
    "language_info": {
      "name": "python"
    },
    "widgets": {
      "application/vnd.jupyter.widget-state+json": {
        "d824b520dc194485a515fa1374a80800": {
          "model_module": "@jupyter-widgets/controls",
          "model_name": "HBoxModel",
          "model_module_version": "1.5.0",
          "state": {
            "_dom_classes": [],
            "_model_module": "@jupyter-widgets/controls",
            "_model_module_version": "1.5.0",
            "_model_name": "HBoxModel",
            "_view_count": null,
            "_view_module": "@jupyter-widgets/controls",
            "_view_module_version": "1.5.0",
            "_view_name": "HBoxView",
            "box_style": "",
            "children": [
              "IPY_MODEL_57d3b1408f2b4fcbb3f4216bf75be996",
              "IPY_MODEL_c8fe72f591f240ce9a81d9ea5000a18a",
              "IPY_MODEL_8cbce306041842239da6b974e5d74996"
            ],
            "layout": "IPY_MODEL_dbbbb5fd728e4040b2503fb25238a6b3"
          }
        },
        "57d3b1408f2b4fcbb3f4216bf75be996": {
          "model_module": "@jupyter-widgets/controls",
          "model_name": "HTMLModel",
          "model_module_version": "1.5.0",
          "state": {
            "_dom_classes": [],
            "_model_module": "@jupyter-widgets/controls",
            "_model_module_version": "1.5.0",
            "_model_name": "HTMLModel",
            "_view_count": null,
            "_view_module": "@jupyter-widgets/controls",
            "_view_module_version": "1.5.0",
            "_view_name": "HTMLView",
            "description": "",
            "description_tooltip": null,
            "layout": "IPY_MODEL_e6057c9054cb4a59a1972afdc5725be2",
            "placeholder": "​",
            "style": "IPY_MODEL_edb4c83aa7f1468b8b58a04885cfd5ed",
            "value": "100%"
          }
        },
        "c8fe72f591f240ce9a81d9ea5000a18a": {
          "model_module": "@jupyter-widgets/controls",
          "model_name": "FloatProgressModel",
          "model_module_version": "1.5.0",
          "state": {
            "_dom_classes": [],
            "_model_module": "@jupyter-widgets/controls",
            "_model_module_version": "1.5.0",
            "_model_name": "FloatProgressModel",
            "_view_count": null,
            "_view_module": "@jupyter-widgets/controls",
            "_view_module_version": "1.5.0",
            "_view_name": "ProgressView",
            "bar_style": "success",
            "description": "",
            "description_tooltip": null,
            "layout": "IPY_MODEL_ff60be7b8cf04a569529068ada41494e",
            "max": 170498071,
            "min": 0,
            "orientation": "horizontal",
            "style": "IPY_MODEL_7c8d8b1c2a3648d2a83bd94ec10e43e3",
            "value": 170498071
          }
        },
        "8cbce306041842239da6b974e5d74996": {
          "model_module": "@jupyter-widgets/controls",
          "model_name": "HTMLModel",
          "model_module_version": "1.5.0",
          "state": {
            "_dom_classes": [],
            "_model_module": "@jupyter-widgets/controls",
            "_model_module_version": "1.5.0",
            "_model_name": "HTMLModel",
            "_view_count": null,
            "_view_module": "@jupyter-widgets/controls",
            "_view_module_version": "1.5.0",
            "_view_name": "HTMLView",
            "description": "",
            "description_tooltip": null,
            "layout": "IPY_MODEL_a1216f3a5e0046298a97196da2d52958",
            "placeholder": "​",
            "style": "IPY_MODEL_74de407e35b240a394ba9bfb6a814ee5",
            "value": " 170498071/170498071 [00:12&lt;00:00, 15462505.95it/s]"
          }
        },
        "dbbbb5fd728e4040b2503fb25238a6b3": {
          "model_module": "@jupyter-widgets/base",
          "model_name": "LayoutModel",
          "model_module_version": "1.2.0",
          "state": {
            "_model_module": "@jupyter-widgets/base",
            "_model_module_version": "1.2.0",
            "_model_name": "LayoutModel",
            "_view_count": null,
            "_view_module": "@jupyter-widgets/base",
            "_view_module_version": "1.2.0",
            "_view_name": "LayoutView",
            "align_content": null,
            "align_items": null,
            "align_self": null,
            "border": null,
            "bottom": null,
            "display": null,
            "flex": null,
            "flex_flow": null,
            "grid_area": null,
            "grid_auto_columns": null,
            "grid_auto_flow": null,
            "grid_auto_rows": null,
            "grid_column": null,
            "grid_gap": null,
            "grid_row": null,
            "grid_template_areas": null,
            "grid_template_columns": null,
            "grid_template_rows": null,
            "height": null,
            "justify_content": null,
            "justify_items": null,
            "left": null,
            "margin": null,
            "max_height": null,
            "max_width": null,
            "min_height": null,
            "min_width": null,
            "object_fit": null,
            "object_position": null,
            "order": null,
            "overflow": null,
            "overflow_x": null,
            "overflow_y": null,
            "padding": null,
            "right": null,
            "top": null,
            "visibility": null,
            "width": null
          }
        },
        "e6057c9054cb4a59a1972afdc5725be2": {
          "model_module": "@jupyter-widgets/base",
          "model_name": "LayoutModel",
          "model_module_version": "1.2.0",
          "state": {
            "_model_module": "@jupyter-widgets/base",
            "_model_module_version": "1.2.0",
            "_model_name": "LayoutModel",
            "_view_count": null,
            "_view_module": "@jupyter-widgets/base",
            "_view_module_version": "1.2.0",
            "_view_name": "LayoutView",
            "align_content": null,
            "align_items": null,
            "align_self": null,
            "border": null,
            "bottom": null,
            "display": null,
            "flex": null,
            "flex_flow": null,
            "grid_area": null,
            "grid_auto_columns": null,
            "grid_auto_flow": null,
            "grid_auto_rows": null,
            "grid_column": null,
            "grid_gap": null,
            "grid_row": null,
            "grid_template_areas": null,
            "grid_template_columns": null,
            "grid_template_rows": null,
            "height": null,
            "justify_content": null,
            "justify_items": null,
            "left": null,
            "margin": null,
            "max_height": null,
            "max_width": null,
            "min_height": null,
            "min_width": null,
            "object_fit": null,
            "object_position": null,
            "order": null,
            "overflow": null,
            "overflow_x": null,
            "overflow_y": null,
            "padding": null,
            "right": null,
            "top": null,
            "visibility": null,
            "width": null
          }
        },
        "edb4c83aa7f1468b8b58a04885cfd5ed": {
          "model_module": "@jupyter-widgets/controls",
          "model_name": "DescriptionStyleModel",
          "model_module_version": "1.5.0",
          "state": {
            "_model_module": "@jupyter-widgets/controls",
            "_model_module_version": "1.5.0",
            "_model_name": "DescriptionStyleModel",
            "_view_count": null,
            "_view_module": "@jupyter-widgets/base",
            "_view_module_version": "1.2.0",
            "_view_name": "StyleView",
            "description_width": ""
          }
        },
        "ff60be7b8cf04a569529068ada41494e": {
          "model_module": "@jupyter-widgets/base",
          "model_name": "LayoutModel",
          "model_module_version": "1.2.0",
          "state": {
            "_model_module": "@jupyter-widgets/base",
            "_model_module_version": "1.2.0",
            "_model_name": "LayoutModel",
            "_view_count": null,
            "_view_module": "@jupyter-widgets/base",
            "_view_module_version": "1.2.0",
            "_view_name": "LayoutView",
            "align_content": null,
            "align_items": null,
            "align_self": null,
            "border": null,
            "bottom": null,
            "display": null,
            "flex": null,
            "flex_flow": null,
            "grid_area": null,
            "grid_auto_columns": null,
            "grid_auto_flow": null,
            "grid_auto_rows": null,
            "grid_column": null,
            "grid_gap": null,
            "grid_row": null,
            "grid_template_areas": null,
            "grid_template_columns": null,
            "grid_template_rows": null,
            "height": null,
            "justify_content": null,
            "justify_items": null,
            "left": null,
            "margin": null,
            "max_height": null,
            "max_width": null,
            "min_height": null,
            "min_width": null,
            "object_fit": null,
            "object_position": null,
            "order": null,
            "overflow": null,
            "overflow_x": null,
            "overflow_y": null,
            "padding": null,
            "right": null,
            "top": null,
            "visibility": null,
            "width": null
          }
        },
        "7c8d8b1c2a3648d2a83bd94ec10e43e3": {
          "model_module": "@jupyter-widgets/controls",
          "model_name": "ProgressStyleModel",
          "model_module_version": "1.5.0",
          "state": {
            "_model_module": "@jupyter-widgets/controls",
            "_model_module_version": "1.5.0",
            "_model_name": "ProgressStyleModel",
            "_view_count": null,
            "_view_module": "@jupyter-widgets/base",
            "_view_module_version": "1.2.0",
            "_view_name": "StyleView",
            "bar_color": null,
            "description_width": ""
          }
        },
        "a1216f3a5e0046298a97196da2d52958": {
          "model_module": "@jupyter-widgets/base",
          "model_name": "LayoutModel",
          "model_module_version": "1.2.0",
          "state": {
            "_model_module": "@jupyter-widgets/base",
            "_model_module_version": "1.2.0",
            "_model_name": "LayoutModel",
            "_view_count": null,
            "_view_module": "@jupyter-widgets/base",
            "_view_module_version": "1.2.0",
            "_view_name": "LayoutView",
            "align_content": null,
            "align_items": null,
            "align_self": null,
            "border": null,
            "bottom": null,
            "display": null,
            "flex": null,
            "flex_flow": null,
            "grid_area": null,
            "grid_auto_columns": null,
            "grid_auto_flow": null,
            "grid_auto_rows": null,
            "grid_column": null,
            "grid_gap": null,
            "grid_row": null,
            "grid_template_areas": null,
            "grid_template_columns": null,
            "grid_template_rows": null,
            "height": null,
            "justify_content": null,
            "justify_items": null,
            "left": null,
            "margin": null,
            "max_height": null,
            "max_width": null,
            "min_height": null,
            "min_width": null,
            "object_fit": null,
            "object_position": null,
            "order": null,
            "overflow": null,
            "overflow_x": null,
            "overflow_y": null,
            "padding": null,
            "right": null,
            "top": null,
            "visibility": null,
            "width": null
          }
        },
        "74de407e35b240a394ba9bfb6a814ee5": {
          "model_module": "@jupyter-widgets/controls",
          "model_name": "DescriptionStyleModel",
          "model_module_version": "1.5.0",
          "state": {
            "_model_module": "@jupyter-widgets/controls",
            "_model_module_version": "1.5.0",
            "_model_name": "DescriptionStyleModel",
            "_view_count": null,
            "_view_module": "@jupyter-widgets/base",
            "_view_module_version": "1.2.0",
            "_view_name": "StyleView",
            "description_width": ""
          }
        }
      }
    }
  },
  "cells": [
    {
      "cell_type": "code",
      "execution_count": 1,
      "metadata": {
        "colab": {
          "base_uri": "https://localhost:8080/"
        },
        "id": "kZFJrRp06eYl",
        "outputId": "93b60466-78d2-4826-f67f-6b2233d1645b"
      },
      "outputs": [
        {
          "output_type": "stream",
          "name": "stdout",
          "text": [
            "Looking in indexes: https://pypi.org/simple, https://us-python.pkg.dev/colab-wheels/public/simple/\n",
            "Requirement already satisfied: requests in /usr/local/lib/python3.7/dist-packages (2.23.0)\n",
            "Requirement already satisfied: certifi>=2017.4.17 in /usr/local/lib/python3.7/dist-packages (from requests) (2022.9.24)\n",
            "Requirement already satisfied: idna<3,>=2.5 in /usr/local/lib/python3.7/dist-packages (from requests) (2.10)\n",
            "Requirement already satisfied: chardet<4,>=3.0.2 in /usr/local/lib/python3.7/dist-packages (from requests) (3.0.4)\n",
            "Requirement already satisfied: urllib3!=1.25.0,!=1.25.1,<1.26,>=1.21.1 in /usr/local/lib/python3.7/dist-packages (from requests) (1.24.3)\n"
          ]
        }
      ],
      "source": [
        "!pip install requests"
      ]
    },
    {
      "cell_type": "code",
      "source": [
        "import requests\n",
        "url='https://raw.githubusercontent.com/NVDLI/LDL/main/pt_framework/utilities.py'\n",
        "r=requests.get(url)\n",
        "\n",
        "with open('utilities.py', 'w') as f:\n",
        "  f.write(r.text)"
      ],
      "metadata": {
        "id": "en-NorYL6oqB"
      },
      "execution_count": 2,
      "outputs": []
    },
    {
      "cell_type": "code",
      "source": [
        "import torch\n",
        "import torch.nn as nn\n",
        "import torchvision\n",
        "import torchvision.transforms as transforms\n",
        "from torchvision.datasets import CIFAR10\n",
        "from torch.utils.data import DataLoader\n",
        "import numpy as np\n",
        "from utilities import train_model\n",
        "\n",
        "device = torch.device(\"cuda:0\" if torch.cuda.is_available() else \"cpu\")\n",
        "EPOCHS = 128\n",
        "BATCH_SIZE=32\n",
        "\n",
        "transform=transforms.Compose([transforms.ToTensor()])\n",
        "trainset=CIFAR10(root='./pt_data', train=True, download=True, transform=transform)\n",
        "trainloader=DataLoader(trainset, batch_size=len(trainset), shuffle=False)\n",
        "data=next(iter(trainloader))\n",
        "mean=data[0].mean()\n",
        "stddev=data[0].std()"
      ],
      "metadata": {
        "colab": {
          "base_uri": "https://localhost:8080/",
          "height": 84,
          "referenced_widgets": [
            "d824b520dc194485a515fa1374a80800",
            "57d3b1408f2b4fcbb3f4216bf75be996",
            "c8fe72f591f240ce9a81d9ea5000a18a",
            "8cbce306041842239da6b974e5d74996",
            "dbbbb5fd728e4040b2503fb25238a6b3",
            "e6057c9054cb4a59a1972afdc5725be2",
            "edb4c83aa7f1468b8b58a04885cfd5ed",
            "ff60be7b8cf04a569529068ada41494e",
            "7c8d8b1c2a3648d2a83bd94ec10e43e3",
            "a1216f3a5e0046298a97196da2d52958",
            "74de407e35b240a394ba9bfb6a814ee5"
          ]
        },
        "id": "9bdAy81g6s_K",
        "outputId": "be652468-3b60-41bd-87c7-803dabe7a114"
      },
      "execution_count": 3,
      "outputs": [
        {
          "output_type": "stream",
          "name": "stdout",
          "text": [
            "Downloading https://www.cs.toronto.edu/~kriz/cifar-10-python.tar.gz to ./pt_data/cifar-10-python.tar.gz\n"
          ]
        },
        {
          "output_type": "display_data",
          "data": {
            "text/plain": [
              "  0%|          | 0/170498071 [00:00<?, ?it/s]"
            ],
            "application/vnd.jupyter.widget-view+json": {
              "version_major": 2,
              "version_minor": 0,
              "model_id": "d824b520dc194485a515fa1374a80800"
            }
          },
          "metadata": {}
        },
        {
          "output_type": "stream",
          "name": "stdout",
          "text": [
            "Extracting ./pt_data/cifar-10-python.tar.gz to ./pt_data\n"
          ]
        }
      ]
    },
    {
      "cell_type": "code",
      "source": [
        "transform=transforms.Compose(\n",
        "    [transforms.ToTensor(),\n",
        "     transforms.Normalize(mean, stddev)])\n",
        "\n",
        "trainset=CIFAR10(root='./pt_data', train=True, download=True, transform=transform)\n",
        "testset=CIFAR10(root='./pt_data', train=False, download=True, transform=transform)\n",
        "\n",
        "model=nn.Sequential(\n",
        "    nn.Conv2d(3, 64, 5, stride=2, padding=2),\n",
        "    nn.ReLU(),\n",
        "    nn.Conv2d(64, 64, 3, stride=2, padding=1),\n",
        "    nn.ReLU(),\n",
        "    nn.Flatten(),\n",
        "    nn.Linear(64*8*8, 10)\n",
        ")"
      ],
      "metadata": {
        "colab": {
          "base_uri": "https://localhost:8080/"
        },
        "id": "bnXiCtSL6vID",
        "outputId": "c00bdb87-ecd0-46d8-bf39-132bc1634f1c"
      },
      "execution_count": 4,
      "outputs": [
        {
          "output_type": "stream",
          "name": "stdout",
          "text": [
            "Files already downloaded and verified\n",
            "Files already downloaded and verified\n"
          ]
        }
      ]
    },
    {
      "cell_type": "code",
      "source": [
        "layers=next(model.modules())\n",
        "conv_layer0=layers[0]\n",
        "conv_layer1=layers[2]\n",
        "output_layer=layers[5]\n",
        "\n",
        "nn.init.kaiming_normal_(conv_layer0.weight)\n",
        "nn.init.constant_(conv_layer0.bias, 0.0)\n",
        "nn.init.kaiming_normal_(conv_layer1.weight)\n",
        "nn.init.constant_(conv_layer1.bias, 0.0)\n",
        "\n",
        "nn.init.xavier_uniform_(output_layer.weight)\n",
        "nn.init.constant_(output_layer.bias, 0.0)\n",
        "\n",
        "optimizer=torch.optim.Adam(model.parameters())\n",
        "loss_function=nn.CrossEntropyLoss()\n",
        "\n",
        "train_model(model, device, EPOCHS, BATCH_SIZE, trainset, testset, optimizer, loss_function, 'acc')"
      ],
      "metadata": {
        "colab": {
          "base_uri": "https://localhost:8080/"
        },
        "id": "GtMTqzOk64Bc",
        "outputId": "412fa72c-88aa-4dbf-f009-9e182d553d0d"
      },
      "execution_count": 5,
      "outputs": [
        {
          "output_type": "stream",
          "name": "stdout",
          "text": [
            "Epoch 1/128 loss: 1.3935 - acc: 0.5093 - val_loss: 1.1460 - val_acc: 0.5942\n",
            "Epoch 2/128 loss: 1.0452 - acc: 0.6364 - val_loss: 1.0432 - val_acc: 0.6364\n",
            "Epoch 3/128 loss: 0.9077 - acc: 0.6853 - val_loss: 1.0270 - val_acc: 0.6425\n",
            "Epoch 4/128 loss: 0.8072 - acc: 0.7180 - val_loss: 1.0561 - val_acc: 0.6448\n",
            "Epoch 5/128 loss: 0.7333 - acc: 0.7430 - val_loss: 1.0517 - val_acc: 0.6500\n",
            "Epoch 6/128 loss: 0.6642 - acc: 0.7683 - val_loss: 1.0934 - val_acc: 0.6504\n",
            "Epoch 7/128 loss: 0.6068 - acc: 0.7854 - val_loss: 1.1849 - val_acc: 0.6402\n",
            "Epoch 8/128 loss: 0.5552 - acc: 0.8057 - val_loss: 1.1948 - val_acc: 0.6452\n",
            "Epoch 9/128 loss: 0.5017 - acc: 0.8225 - val_loss: 1.2752 - val_acc: 0.6484\n",
            "Epoch 10/128 loss: 0.4684 - acc: 0.8332 - val_loss: 1.3142 - val_acc: 0.6348\n",
            "Epoch 11/128 loss: 0.4255 - acc: 0.8481 - val_loss: 1.3935 - val_acc: 0.6343\n",
            "Epoch 12/128 loss: 0.3882 - acc: 0.8602 - val_loss: 1.4723 - val_acc: 0.6343\n",
            "Epoch 13/128 loss: 0.3538 - acc: 0.8717 - val_loss: 1.6111 - val_acc: 0.6331\n",
            "Epoch 14/128 loss: 0.3351 - acc: 0.8799 - val_loss: 1.7185 - val_acc: 0.6210\n",
            "Epoch 15/128 loss: 0.3056 - acc: 0.8877 - val_loss: 1.8210 - val_acc: 0.6261\n",
            "Epoch 16/128 loss: 0.2868 - acc: 0.8963 - val_loss: 1.9223 - val_acc: 0.6238\n",
            "Epoch 17/128 loss: 0.2677 - acc: 0.9028 - val_loss: 1.9908 - val_acc: 0.6204\n",
            "Epoch 18/128 loss: 0.2470 - acc: 0.9104 - val_loss: 2.0871 - val_acc: 0.6248\n",
            "Epoch 19/128 loss: 0.2354 - acc: 0.9137 - val_loss: 2.2190 - val_acc: 0.6197\n",
            "Epoch 20/128 loss: 0.2255 - acc: 0.9186 - val_loss: 2.3019 - val_acc: 0.6176\n",
            "Epoch 21/128 loss: 0.2176 - acc: 0.9224 - val_loss: 2.4128 - val_acc: 0.6162\n",
            "Epoch 22/128 loss: 0.2016 - acc: 0.9278 - val_loss: 2.5005 - val_acc: 0.6170\n",
            "Epoch 23/128 loss: 0.1896 - acc: 0.9308 - val_loss: 2.6218 - val_acc: 0.6175\n",
            "Epoch 24/128 loss: 0.1853 - acc: 0.9327 - val_loss: 2.7598 - val_acc: 0.6171\n",
            "Epoch 25/128 loss: 0.1828 - acc: 0.9342 - val_loss: 2.7697 - val_acc: 0.6164\n",
            "Epoch 26/128 loss: 0.1829 - acc: 0.9338 - val_loss: 2.9383 - val_acc: 0.6144\n",
            "Epoch 27/128 loss: 0.1705 - acc: 0.9392 - val_loss: 2.9800 - val_acc: 0.6153\n",
            "Epoch 28/128 loss: 0.1570 - acc: 0.9435 - val_loss: 3.1269 - val_acc: 0.6169\n",
            "Epoch 29/128 loss: 0.1748 - acc: 0.9382 - val_loss: 3.2129 - val_acc: 0.6178\n",
            "Epoch 30/128 loss: 0.1623 - acc: 0.9431 - val_loss: 3.3849 - val_acc: 0.6156\n",
            "Epoch 31/128 loss: 0.1499 - acc: 0.9480 - val_loss: 3.4060 - val_acc: 0.6086\n",
            "Epoch 32/128 loss: 0.1504 - acc: 0.9475 - val_loss: 3.5237 - val_acc: 0.6192\n",
            "Epoch 33/128 loss: 0.1606 - acc: 0.9447 - val_loss: 3.4317 - val_acc: 0.6122\n",
            "Epoch 34/128 loss: 0.1391 - acc: 0.9515 - val_loss: 3.7929 - val_acc: 0.6028\n",
            "Epoch 35/128 loss: 0.1514 - acc: 0.9487 - val_loss: 3.7781 - val_acc: 0.6105\n",
            "Epoch 36/128 loss: 0.1465 - acc: 0.9506 - val_loss: 3.8386 - val_acc: 0.6109\n",
            "Epoch 37/128 loss: 0.1479 - acc: 0.9504 - val_loss: 4.0288 - val_acc: 0.6131\n",
            "Epoch 38/128 loss: 0.1385 - acc: 0.9519 - val_loss: 4.0298 - val_acc: 0.6063\n",
            "Epoch 39/128 loss: 0.1460 - acc: 0.9501 - val_loss: 4.1582 - val_acc: 0.6083\n",
            "Epoch 40/128 loss: 0.1434 - acc: 0.9521 - val_loss: 4.1613 - val_acc: 0.6050\n",
            "Epoch 41/128 loss: 0.1303 - acc: 0.9553 - val_loss: 4.2508 - val_acc: 0.6084\n",
            "Epoch 42/128 loss: 0.1435 - acc: 0.9540 - val_loss: 4.3929 - val_acc: 0.6011\n",
            "Epoch 43/128 loss: 0.1328 - acc: 0.9556 - val_loss: 4.5545 - val_acc: 0.6129\n",
            "Epoch 44/128 loss: 0.1386 - acc: 0.9561 - val_loss: 4.6022 - val_acc: 0.6030\n",
            "Epoch 45/128 loss: 0.1377 - acc: 0.9574 - val_loss: 4.5921 - val_acc: 0.6071\n",
            "Epoch 46/128 loss: 0.1280 - acc: 0.9599 - val_loss: 4.6857 - val_acc: 0.6034\n",
            "Epoch 47/128 loss: 0.1346 - acc: 0.9570 - val_loss: 4.8033 - val_acc: 0.6110\n",
            "Epoch 48/128 loss: 0.1391 - acc: 0.9569 - val_loss: 4.7824 - val_acc: 0.6139\n",
            "Epoch 49/128 loss: 0.1382 - acc: 0.9582 - val_loss: 5.0666 - val_acc: 0.6083\n",
            "Epoch 50/128 loss: 0.1318 - acc: 0.9592 - val_loss: 5.1303 - val_acc: 0.6074\n",
            "Epoch 51/128 loss: 0.1414 - acc: 0.9581 - val_loss: 5.1049 - val_acc: 0.6091\n",
            "Epoch 52/128 loss: 0.1290 - acc: 0.9601 - val_loss: 5.2292 - val_acc: 0.6113\n",
            "Epoch 53/128 loss: 0.1354 - acc: 0.9596 - val_loss: 5.3881 - val_acc: 0.6095\n",
            "Epoch 54/128 loss: 0.1409 - acc: 0.9592 - val_loss: 5.7130 - val_acc: 0.6033\n",
            "Epoch 55/128 loss: 0.1264 - acc: 0.9619 - val_loss: 5.6089 - val_acc: 0.6069\n",
            "Epoch 56/128 loss: 0.1260 - acc: 0.9639 - val_loss: 5.7296 - val_acc: 0.6066\n",
            "Epoch 57/128 loss: 0.1377 - acc: 0.9615 - val_loss: 5.7798 - val_acc: 0.6054\n",
            "Epoch 58/128 loss: 0.1299 - acc: 0.9624 - val_loss: 5.8314 - val_acc: 0.6147\n",
            "Epoch 59/128 loss: 0.1207 - acc: 0.9650 - val_loss: 5.8810 - val_acc: 0.5977\n",
            "Epoch 60/128 loss: 0.1342 - acc: 0.9627 - val_loss: 5.9446 - val_acc: 0.6016\n",
            "Epoch 61/128 loss: 0.1356 - acc: 0.9626 - val_loss: 6.1315 - val_acc: 0.6034\n",
            "Epoch 62/128 loss: 0.1247 - acc: 0.9657 - val_loss: 6.2725 - val_acc: 0.6069\n",
            "Epoch 63/128 loss: 0.1371 - acc: 0.9632 - val_loss: 6.3279 - val_acc: 0.6030\n",
            "Epoch 64/128 loss: 0.1233 - acc: 0.9660 - val_loss: 6.4735 - val_acc: 0.6122\n",
            "Epoch 65/128 loss: 0.1297 - acc: 0.9641 - val_loss: 6.4761 - val_acc: 0.6057\n",
            "Epoch 66/128 loss: 0.1251 - acc: 0.9653 - val_loss: 6.6106 - val_acc: 0.6121\n",
            "Epoch 67/128 loss: 0.1345 - acc: 0.9643 - val_loss: 6.7025 - val_acc: 0.6129\n",
            "Epoch 68/128 loss: 0.1286 - acc: 0.9663 - val_loss: 6.8581 - val_acc: 0.6092\n",
            "Epoch 69/128 loss: 0.1357 - acc: 0.9658 - val_loss: 6.8591 - val_acc: 0.6060\n",
            "Epoch 70/128 loss: 0.1336 - acc: 0.9654 - val_loss: 6.8307 - val_acc: 0.6070\n",
            "Epoch 71/128 loss: 0.1224 - acc: 0.9677 - val_loss: 6.9812 - val_acc: 0.6111\n",
            "Epoch 72/128 loss: 0.1392 - acc: 0.9644 - val_loss: 7.2167 - val_acc: 0.6119\n",
            "Epoch 73/128 loss: 0.1311 - acc: 0.9683 - val_loss: 7.0689 - val_acc: 0.6126\n",
            "Epoch 74/128 loss: 0.1330 - acc: 0.9674 - val_loss: 7.2822 - val_acc: 0.6051\n",
            "Epoch 75/128 loss: 0.1384 - acc: 0.9656 - val_loss: 7.4035 - val_acc: 0.6022\n",
            "Epoch 76/128 loss: 0.1236 - acc: 0.9687 - val_loss: 7.5606 - val_acc: 0.6103\n",
            "Epoch 77/128 loss: 0.1281 - acc: 0.9687 - val_loss: 7.6545 - val_acc: 0.6040\n",
            "Epoch 78/128 loss: 0.1386 - acc: 0.9667 - val_loss: 7.6529 - val_acc: 0.6091\n",
            "Epoch 79/128 loss: 0.1291 - acc: 0.9689 - val_loss: 7.6766 - val_acc: 0.6055\n",
            "Epoch 80/128 loss: 0.1307 - acc: 0.9681 - val_loss: 7.8608 - val_acc: 0.6107\n",
            "Epoch 81/128 loss: 0.1309 - acc: 0.9692 - val_loss: 8.0441 - val_acc: 0.6038\n",
            "Epoch 82/128 loss: 0.1347 - acc: 0.9680 - val_loss: 8.0668 - val_acc: 0.6042\n",
            "Epoch 83/128 loss: 0.1296 - acc: 0.9696 - val_loss: 8.1935 - val_acc: 0.6054\n",
            "Epoch 84/128 loss: 0.1366 - acc: 0.9669 - val_loss: 8.1723 - val_acc: 0.6134\n",
            "Epoch 85/128 loss: 0.1278 - acc: 0.9696 - val_loss: 8.3378 - val_acc: 0.6028\n",
            "Epoch 86/128 loss: 0.1355 - acc: 0.9698 - val_loss: 8.3949 - val_acc: 0.5999\n",
            "Epoch 87/128 loss: 0.1248 - acc: 0.9708 - val_loss: 8.5915 - val_acc: 0.6115\n",
            "Epoch 88/128 loss: 0.1399 - acc: 0.9690 - val_loss: 8.7400 - val_acc: 0.6030\n",
            "Epoch 89/128 loss: 0.1267 - acc: 0.9702 - val_loss: 8.6833 - val_acc: 0.6088\n",
            "Epoch 90/128 loss: 0.1247 - acc: 0.9719 - val_loss: 8.9235 - val_acc: 0.6055\n",
            "Epoch 91/128 loss: 0.1402 - acc: 0.9687 - val_loss: 8.9663 - val_acc: 0.6025\n",
            "Epoch 92/128 loss: 0.1357 - acc: 0.9712 - val_loss: 9.1111 - val_acc: 0.6090\n",
            "Epoch 93/128 loss: 0.1247 - acc: 0.9723 - val_loss: 8.8685 - val_acc: 0.5996\n",
            "Epoch 94/128 loss: 0.1445 - acc: 0.9700 - val_loss: 9.2135 - val_acc: 0.6148\n",
            "Epoch 95/128 loss: 0.1307 - acc: 0.9717 - val_loss: 9.3283 - val_acc: 0.6092\n",
            "Epoch 96/128 loss: 0.1313 - acc: 0.9716 - val_loss: 9.5205 - val_acc: 0.6060\n",
            "Epoch 97/128 loss: 0.1312 - acc: 0.9730 - val_loss: 9.4865 - val_acc: 0.6106\n",
            "Epoch 98/128 loss: 0.1203 - acc: 0.9737 - val_loss: 9.8496 - val_acc: 0.6025\n",
            "Epoch 99/128 loss: 0.1380 - acc: 0.9713 - val_loss: 9.6715 - val_acc: 0.6126\n",
            "Epoch 100/128 loss: 0.1268 - acc: 0.9733 - val_loss: 10.1084 - val_acc: 0.6010\n",
            "Epoch 101/128 loss: 0.1361 - acc: 0.9728 - val_loss: 9.9172 - val_acc: 0.6109\n",
            "Epoch 102/128 loss: 0.1337 - acc: 0.9725 - val_loss: 10.0152 - val_acc: 0.6086\n",
            "Epoch 103/128 loss: 0.1312 - acc: 0.9726 - val_loss: 10.0474 - val_acc: 0.6044\n",
            "Epoch 104/128 loss: 0.1338 - acc: 0.9727 - val_loss: 10.0981 - val_acc: 0.6089\n",
            "Epoch 105/128 loss: 0.1384 - acc: 0.9716 - val_loss: 10.5837 - val_acc: 0.6051\n",
            "Epoch 106/128 loss: 0.1435 - acc: 0.9731 - val_loss: 10.5028 - val_acc: 0.6014\n",
            "Epoch 107/128 loss: 0.1296 - acc: 0.9740 - val_loss: 10.4253 - val_acc: 0.6063\n",
            "Epoch 108/128 loss: 0.1263 - acc: 0.9744 - val_loss: 10.7594 - val_acc: 0.6116\n",
            "Epoch 109/128 loss: 0.1356 - acc: 0.9740 - val_loss: 10.8698 - val_acc: 0.6030\n",
            "Epoch 110/128 loss: 0.1397 - acc: 0.9729 - val_loss: 11.1178 - val_acc: 0.6117\n",
            "Epoch 111/128 loss: 0.1267 - acc: 0.9757 - val_loss: 11.2833 - val_acc: 0.6061\n",
            "Epoch 112/128 loss: 0.1439 - acc: 0.9724 - val_loss: 11.3960 - val_acc: 0.6063\n",
            "Epoch 113/128 loss: 0.1456 - acc: 0.9740 - val_loss: 11.0900 - val_acc: 0.6039\n",
            "Epoch 114/128 loss: 0.1299 - acc: 0.9749 - val_loss: 11.3623 - val_acc: 0.6052\n",
            "Epoch 115/128 loss: 0.1367 - acc: 0.9740 - val_loss: 11.6114 - val_acc: 0.6028\n",
            "Epoch 116/128 loss: 0.1301 - acc: 0.9754 - val_loss: 11.9936 - val_acc: 0.6146\n",
            "Epoch 117/128 loss: 0.1328 - acc: 0.9752 - val_loss: 11.8202 - val_acc: 0.6115\n",
            "Epoch 118/128 loss: 0.1345 - acc: 0.9745 - val_loss: 11.9354 - val_acc: 0.6125\n",
            "Epoch 119/128 loss: 0.1406 - acc: 0.9746 - val_loss: 12.0347 - val_acc: 0.6038\n",
            "Epoch 120/128 loss: 0.1287 - acc: 0.9767 - val_loss: 12.2985 - val_acc: 0.6050\n",
            "Epoch 121/128 loss: 0.1253 - acc: 0.9769 - val_loss: 12.3449 - val_acc: 0.5983\n",
            "Epoch 122/128 loss: 0.1533 - acc: 0.9742 - val_loss: 12.3319 - val_acc: 0.6094\n",
            "Epoch 123/128 loss: 0.1362 - acc: 0.9752 - val_loss: 12.4727 - val_acc: 0.6058\n",
            "Epoch 124/128 loss: 0.1304 - acc: 0.9773 - val_loss: 12.4538 - val_acc: 0.6067\n",
            "Epoch 125/128 loss: 0.1442 - acc: 0.9754 - val_loss: 12.8303 - val_acc: 0.6088\n",
            "Epoch 126/128 loss: 0.1443 - acc: 0.9755 - val_loss: 12.9405 - val_acc: 0.6041\n",
            "Epoch 127/128 loss: 0.1494 - acc: 0.9757 - val_loss: 13.0246 - val_acc: 0.6076\n",
            "Epoch 128/128 loss: 0.1408 - acc: 0.9764 - val_loss: 12.9177 - val_acc: 0.6054\n"
          ]
        },
        {
          "output_type": "execute_result",
          "data": {
            "text/plain": [
              "[0.9764075495841331, 0.6054313099041534]"
            ]
          },
          "metadata": {},
          "execution_count": 5
        }
      ]
    }
  ]
}